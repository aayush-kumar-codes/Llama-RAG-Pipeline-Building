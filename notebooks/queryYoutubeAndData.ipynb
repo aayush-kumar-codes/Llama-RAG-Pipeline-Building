{
 "cells": [
  {
   "cell_type": "code",
   "execution_count": 1,
   "metadata": {},
   "outputs": [],
   "source": [
    "import logging\n",
    "import sys\n",
    "\n",
    "logging.basicConfig(stream=sys.stdout, level=logging.INFO)\n",
    "logging.getLogger().addHandler(logging.StreamHandler(stream=sys.stdout))"
   ]
  },
  {
   "cell_type": "code",
   "execution_count": 2,
   "metadata": {},
   "outputs": [],
   "source": [
    "import nest_asyncio\n",
    "nest_asyncio.apply()"
   ]
  },
  {
   "cell_type": "code",
   "execution_count": 3,
   "metadata": {},
   "outputs": [],
   "source": [
    "import os\n",
    "os.environ['NUMEXPR_MAX_THREADS'] = '4'\n",
    "os.environ['NUMEXPR_NUM_THREADS'] = '2'\n",
    "import numexpr as ne"
   ]
  },
  {
   "cell_type": "code",
   "execution_count": 4,
   "metadata": {},
   "outputs": [],
   "source": [
    "import os\n",
    "os.environ[\"OPENAI_API_KEY\"] = \"<Your API Key\"\n",
    "import openai\n",
    "openai.api_key = \"<Your API Key\""
   ]
  },
  {
   "cell_type": "code",
   "execution_count": 5,
   "metadata": {},
   "outputs": [],
   "source": [
    "from llama_hub.youtube_transcript import YoutubeTranscriptReader\n",
    "\n",
    "loader=YoutubeTranscriptReader()\n",
    "\n",
    "youtube_documents = loader.load_data(ytlinks=['https://www.youtube.com/watch?v=jITPOcBQQW8', 'https://www.youtube.com/watch?v=xFfnJhZeL_Y', 'https://www.youtube.com/watch?v=g_LNu6Aaxvk'])"
   ]
  },
  {
   "cell_type": "code",
   "execution_count": 6,
   "metadata": {},
   "outputs": [
    {
     "name": "stdout",
     "output_type": "stream",
     "text": [
      "INFO:httpx:HTTP Request: POST https://api.openai.com/v1/embeddings \"HTTP/1.1 200 OK\"\n",
      "HTTP Request: POST https://api.openai.com/v1/embeddings \"HTTP/1.1 200 OK\"\n",
      "INFO:httpx:HTTP Request: POST https://api.openai.com/v1/embeddings \"HTTP/1.1 200 OK\"\n",
      "HTTP Request: POST https://api.openai.com/v1/embeddings \"HTTP/1.1 200 OK\"\n",
      "INFO:httpx:HTTP Request: POST https://api.openai.com/v1/embeddings \"HTTP/1.1 200 OK\"\n",
      "HTTP Request: POST https://api.openai.com/v1/embeddings \"HTTP/1.1 200 OK\"\n"
     ]
    }
   ],
   "source": [
    "from llama_index import VectorStoreIndex\n",
    "\n",
    "vector_indices = {}\n",
    "vector_query_engines = {}\n",
    "\n",
    "breeds = [\"Savanah\", \"Ragdol\", \"Maine Coon\"]\n",
    "\n",
    "for breed, youtube in zip(breeds, youtube_documents):\n",
    "    vector_index = VectorStoreIndex.from_documents([youtube])\n",
    "    query_engine = vector_index.as_query_engine(similarity_top_k=3)\n",
    "    vector_indices[breed] = vector_index\n",
    "    vector_query_engines[breed] = query_engine"
   ]
  },
  {
   "cell_type": "code",
   "execution_count": 7,
   "metadata": {},
   "outputs": [],
   "source": [
    "from llama_index.query_engine import SubQuestionQueryEngine\n",
    "from llama_index.tools import QueryEngineTool, ToolMetadata\n",
    "\n",
    "\n",
    "\n",
    "query_engine_tools = []\n",
    "\n",
    "#Create a list of QueryEngineTool instances for each breed:\n",
    "for breed in breeds:\n",
    "    query_engine = vector_query_engines[breed]\n",
    "\n",
    "    query_engine_tool = QueryEngineTool(\n",
    "        query_engine=query_engine,\n",
    "        metadata=ToolMetadata(\n",
    "            name=breed,\n",
    "            description=f\"Provides information about the cat breed {breed}\"\n",
    "        ),\n",
    "    )\n",
    "    query_engine_tools.append(query_engine_tool)\n",
    "\n",
    "#Create a SubQuestionQueryEngine using the list of query engine tools.\n",
    "subquestion_engine = SubQuestionQueryEngine.from_defaults(query_engine_tools=query_engine_tools)    "
   ]
  },
  {
   "cell_type": "code",
   "execution_count": 8,
   "metadata": {},
   "outputs": [
    {
     "name": "stdout",
     "output_type": "stream",
     "text": [
      "[('Savannah', 'USA', 'high energy', 'Large', 'sociable'), ('Ragdoll', 'USA', 'gentle', 'Large', 'sociable'), ('Maine Coon', 'USA (Maine)', 'friendly', 'Very Large', 'sociable')]\n"
     ]
    }
   ],
   "source": [
    "from sqlalchemy import create_engine\n",
    "\n",
    "engine = create_engine('sqlite:///databases/cats.db', future=True)\n",
    "with engine.connect() as connection:\n",
    "    result = connection.exec_driver_sql(\"SELECT * FROM cat_breeds\")\n",
    "    print(result.fetchall())"
   ]
  },
  {
   "cell_type": "code",
   "execution_count": 9,
   "metadata": {},
   "outputs": [],
   "source": [
    "from llama_index import SQLDatabase\n",
    "sql_database = SQLDatabase(engine, include_tables=[\"cat_breeds\"])"
   ]
  },
  {
   "cell_type": "code",
   "execution_count": 10,
   "metadata": {},
   "outputs": [],
   "source": [
    "from llama_index.indices.struct_store import NLSQLTableQueryEngine\n",
    "\n",
    "# Import the NLSQLTableQueryEngine class and create an instance with context query kwargs:\n",
    "sql_query_engine = NLSQLTableQueryEngine(\n",
    "    sql_database,\n",
    "    context_query_kwargs={\"cat_breeds\": (\n",
    "        \"The only columns available: name,origin,temperament,size,social_behavior. Do not use other columns and foreign keys. \\n\"\n",
    "        \"Do not attempt to run a query if the column is not among available columns. Do not use unexistant colums in a WHERE part of the query. \\n\"\n",
    "        \"Never return a query: SELECT name FROM cat_breeds WHERE eye_color = 'blue' AND eye_shape = 'almond' \\n\"\n",
    "        \"When the question is Which cat has the blue almond-shaped eyes? return SELECT name FROM cat_breeds \\n\"\n",
    "        \"When the column does not exist return an answer: SELECT name FROM cat_breeds\\\\n\"\n",
    "        )\n",
    "    })"
   ]
  },
  {
   "cell_type": "code",
   "execution_count": 11,
   "metadata": {},
   "outputs": [],
   "source": [
    "# Create a QueryEngineTool for the SQL query engine. Useful for translating a natural language query into a SQL query\n",
    "\n",
    "sql_tool = QueryEngineTool.from_defaults(\n",
    "    query_engine=sql_query_engine,\n",
    "    description=(\n",
    "        'Useful for translating a natural language query into a SQL query over a table containing: '\n",
    "        ' name/origin/temperament/size/social_behaviour of each cat breed.'\n",
    "        'Use when you need information about the cat origin, temperament, size and social behaviour.'\n",
    "        'Do NOT use for other characteristics except origin, temperament, size and social behaviour.'\n",
    "    )\n",
    ")"
   ]
  },
  {
   "cell_type": "code",
   "execution_count": 12,
   "metadata": {},
   "outputs": [],
   "source": [
    "# Create a subquery vector engine tool for answering semantic questions.\n",
    "\n",
    "subquery_vector_engine_tool = QueryEngineTool.from_defaults(\n",
    "    query_engine=subquestion_engine,\n",
    "    description=f\"Useful for answering semantic questions about different cat breeds\",\n",
    ")"
   ]
  },
  {
   "cell_type": "markdown",
   "metadata": {},
   "source": [
    "In summary, the subquestion_engine is a specialized query engine designed to handle subquestions related to different cat breeds. It leverages a set of tools, each tailored to a specific cat breed, to provide detailed information in response to natural language queries about those breeds. This approach allows for a more nuanced and specific handling of queries, improving the system's ability to answer questions about cat breeds in a targeted manner."
   ]
  },
  {
   "cell_type": "code",
   "execution_count": 13,
   "metadata": {},
   "outputs": [],
   "source": [
    "from llama_index.query_engine.sql_join_query_engine import SQLJoinQueryEngine\n",
    "\n",
    "# Perform a query using the joined query engine:\n",
    "query_engine = SQLJoinQueryEngine(sql_tool, subquery_vector_engine_tool)"
   ]
  },
  {
   "cell_type": "code",
   "execution_count": 14,
   "metadata": {},
   "outputs": [],
   "source": [
    "openai.log = \"debug\""
   ]
  },
  {
   "cell_type": "code",
   "execution_count": 15,
   "metadata": {},
   "outputs": [
    {
     "name": "stdout",
     "output_type": "stream",
     "text": [
      "INFO:httpx:HTTP Request: POST https://api.openai.com/v1/chat/completions \"HTTP/1.1 200 OK\"\n",
      "HTTP Request: POST https://api.openai.com/v1/chat/completions \"HTTP/1.1 200 OK\"\n",
      "\u001b[1;3;34mQuerying SQL database: The question is asking about the size of a specific cat breed (Maine Coon) and this choice is specifically for obtaining information about the size of cat breeds.\n",
      "\u001b[0mINFO:llama_index.query_engine.sql_join_query_engine:> Querying SQL database: The question is asking about the size of a specific cat breed (Maine Coon) and this choice is specifically for obtaining information about the size of cat breeds.\n",
      "> Querying SQL database: The question is asking about the size of a specific cat breed (Maine Coon) and this choice is specifically for obtaining information about the size of cat breeds.\n",
      "INFO:llama_index.indices.struct_store.sql_retriever:> Table desc str: Table 'cat_breeds' has columns: name (VARCHAR(16)), origin (VARCHAR(16)), temperament (VARCHAR(16)), size (VARCHAR(16)), social_behavior (VARCHAR(16)), and foreign keys: . The table description is: The only columns available: name,origin,temperament,size,social_behavior. Do not use other columns and foreign keys. \n",
      "Do not attempt to run a query if the column is not among available columns. Do not use unexistant colums in a WHERE part of the query. \n",
      "Never return a query: SELECT name FROM cat_breeds WHERE eye_color = 'blue' AND eye_shape = 'almond' \n",
      "When the question is Which cat has the blue almond-shaped eyes? return SELECT name FROM cat_breeds \n",
      "When the column does not exist return an answer: SELECT name FROM cat_breeds\\n\n",
      "> Table desc str: Table 'cat_breeds' has columns: name (VARCHAR(16)), origin (VARCHAR(16)), temperament (VARCHAR(16)), size (VARCHAR(16)), social_behavior (VARCHAR(16)), and foreign keys: . The table description is: The only columns available: name,origin,temperament,size,social_behavior. Do not use other columns and foreign keys. \n",
      "Do not attempt to run a query if the column is not among available columns. Do not use unexistant colums in a WHERE part of the query. \n",
      "Never return a query: SELECT name FROM cat_breeds WHERE eye_color = 'blue' AND eye_shape = 'almond' \n",
      "When the question is Which cat has the blue almond-shaped eyes? return SELECT name FROM cat_breeds \n",
      "When the column does not exist return an answer: SELECT name FROM cat_breeds\\n\n",
      "INFO:httpx:HTTP Request: POST https://api.openai.com/v1/chat/completions \"HTTP/1.1 200 OK\"\n",
      "HTTP Request: POST https://api.openai.com/v1/chat/completions \"HTTP/1.1 200 OK\"\n",
      "INFO:httpx:HTTP Request: POST https://api.openai.com/v1/chat/completions \"HTTP/1.1 200 OK\"\n",
      "HTTP Request: POST https://api.openai.com/v1/chat/completions \"HTTP/1.1 200 OK\"\n",
      "\u001b[1;3;33mSQL query: SELECT size, life_span FROM cat_breeds WHERE name = 'Maine Coon'\n",
      "\u001b[0m\u001b[1;3;33mSQL response: I'm sorry, but there seems to be an error with the query. Could you please try again?\n",
      "\u001b[0mINFO:httpx:HTTP Request: POST https://api.openai.com/v1/chat/completions \"HTTP/1.1 200 OK\"\n",
      "HTTP Request: POST https://api.openai.com/v1/chat/completions \"HTTP/1.1 200 OK\"\n",
      "\u001b[1;3;34mTransformed query given SQL response: None\n",
      "\u001b[0mINFO:llama_index.query_engine.sql_join_query_engine:> Transformed query given SQL response: None\n",
      "> Transformed query given SQL response: None\n"
     ]
    }
   ],
   "source": [
    "response=query_engine.query(\"Tell me about Maine Coon size and it's life span\")"
   ]
  },
  {
   "cell_type": "code",
   "execution_count": 16,
   "metadata": {},
   "outputs": [
    {
     "name": "stdout",
     "output_type": "stream",
     "text": [
      "I'm sorry, but there seems to be an error with the query. Could you please try again?\n"
     ]
    }
   ],
   "source": [
    "print(response)"
   ]
  },
  {
   "cell_type": "code",
   "execution_count": null,
   "metadata": {},
   "outputs": [],
   "source": []
  }
 ],
 "metadata": {
  "kernelspec": {
   "display_name": "myenv",
   "language": "python",
   "name": "python3"
  },
  "language_info": {
   "codemirror_mode": {
    "name": "ipython",
    "version": 3
   },
   "file_extension": ".py",
   "mimetype": "text/x-python",
   "name": "python",
   "nbconvert_exporter": "python",
   "pygments_lexer": "ipython3",
   "version": "3.10.0"
  },
  "orig_nbformat": 4
 },
 "nbformat": 4,
 "nbformat_minor": 2
}
