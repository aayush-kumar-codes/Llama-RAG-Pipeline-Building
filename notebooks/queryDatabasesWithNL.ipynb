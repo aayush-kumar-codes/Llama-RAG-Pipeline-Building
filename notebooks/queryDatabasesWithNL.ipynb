{
 "cells": [
  {
   "cell_type": "markdown",
   "metadata": {},
   "source": [
    "Learning Objectives:\n",
    " 1. Use Natural Language Query DBs to interact with relational DBs"
   ]
  },
  {
   "cell_type": "code",
   "execution_count": 2,
   "metadata": {},
   "outputs": [],
   "source": [
    "import logging\n",
    "import sys\n",
    "import os\n",
    "\n",
    "logging.basicConfig(stream=sys.stdout, level=logging.INFO)\n",
    "logging.getLogger().addHandler(logging.StreamHandler(stream=sys.stdout))"
   ]
  },
  {
   "cell_type": "code",
   "execution_count": 3,
   "metadata": {},
   "outputs": [],
   "source": [
    "import os\n",
    "import numexpr as ne\n",
    "os.environ['NUMEXPR_MAX_THREADS'] = '4'\n",
    "os.environ['NUMEXPR_NUM_THREADS'] = '2'\n"
   ]
  },
  {
   "cell_type": "code",
   "execution_count": 4,
   "metadata": {},
   "outputs": [],
   "source": [
    "os.environ[\"OPENAI_API_KEY\"] = \"<Your API Key\"\n",
    "\n",
    "import openai\n",
    "openai.api_key = \"<Your API Key\""
   ]
  },
  {
   "cell_type": "code",
   "execution_count": 6,
   "metadata": {},
   "outputs": [],
   "source": [
    "from sqlalchemy import create_engine, Column, Table, String, MetaData\n",
    "\n",
    "\n",
    "#Create a SQL table\n",
    "metadata_obj = MetaData()\n",
    "engine = create_engine('sqlite:///databases/cats.db', future=True)\n",
    "\n",
    "cat_breeds_table = Table(\n",
    "    \"cat_breeds\",\n",
    "    metadata_obj,\n",
    "    Column(\"name\", String(16), primary_key=True),\n",
    "    Column(\"origin\", String(16), nullable=False),\n",
    "    Column(\"temperament\", String(16), nullable=False),\n",
    "    Column(\"size\", String(16), nullable=False),\n",
    "    Column(\"social_behavior\", String(16), nullable=False),\n",
    ")\n",
    "\n",
    "metadata_obj.create_all(engine)"
   ]
  },
  {
   "cell_type": "code",
   "execution_count": 7,
   "metadata": {},
   "outputs": [],
   "source": [
    "from sqlalchemy import insert\n",
    "\n",
    "breeds_data = [\n",
    "    {\n",
    "        'name': 'Savannah',\n",
    "        'origin': 'USA',\n",
    "        'temperament': 'high energy',\n",
    "        'size': 'Large',\n",
    "        'social_behavior': 'sociable'\n",
    "    },\n",
    "    {\n",
    "        'name': 'Ragdoll',\n",
    "        'origin': 'USA',\n",
    "        'temperament': 'gentle',\n",
    "        'size': 'Large',\n",
    "        'social_behavior': 'sociable'\n",
    "    },\n",
    "    {\n",
    "        'name': 'Maine Coon',\n",
    "        'origin': 'USA (Maine)',\n",
    "        'temperament': 'friendly',\n",
    "        'size': 'Very Large',\n",
    "        'social_behavior': 'sociable'\n",
    "    }\n",
    "]\n",
    "for breed in breeds_data:\n",
    "    stmt = insert(cat_breeds_table).values(**breed)\n",
    "    with engine.connect() as connection:\n",
    "        cursor = connection.execute(stmt)\n",
    "        connection.commit()"
   ]
  },
  {
   "cell_type": "code",
   "execution_count": 8,
   "metadata": {},
   "outputs": [
    {
     "name": "stdout",
     "output_type": "stream",
     "text": [
      "[('Savannah', 'USA', 'high energy', 'Large', 'sociable'), ('Ragdoll', 'USA', 'gentle', 'Large', 'sociable'), ('Maine Coon', 'USA (Maine)', 'friendly', 'Very Large', 'sociable')]\n"
     ]
    }
   ],
   "source": [
    "with engine.connect() as connection:\n",
    "    result = connection.exec_driver_sql(\"SELECT * FROM cat_breeds\")\n",
    "    print(result.fetchall())"
   ]
  },
  {
   "cell_type": "code",
   "execution_count": 9,
   "metadata": {},
   "outputs": [],
   "source": [
    "from llama_index import SQLDatabase\n",
    "sql_database = SQLDatabase(engine, include_tables=[\"cat_breeds\"])"
   ]
  },
  {
   "cell_type": "code",
   "execution_count": 10,
   "metadata": {},
   "outputs": [],
   "source": [
    "from llama_index import ServiceContext\n",
    "from llama_index.llms import OpenAI\n",
    "llm = OpenAI(model=\"gpt-4\", temperature=0, verbose=True)\n",
    "service_context = ServiceContext.from_defaults(llm=llm)\n"
   ]
  },
  {
   "cell_type": "code",
   "execution_count": 11,
   "metadata": {},
   "outputs": [],
   "source": [
    "from llama_index.indices.struct_store import NLSQLTableQueryEngine\n",
    "\n",
    "# creates a natural language SQL table query engine, specifying the SQL database and \n",
    "# additional context information for querying the \"cat_breeds\" table.\n",
    "query_engine = NLSQLTableQueryEngine(\n",
    "    sql_database,\n",
    "    context_query_kwargs={\"cat_breeds\": (\n",
    "        \"The only columns available are: name,origin,temperament,size,social_behavior. Do not use other columns and foreign keys. \\n\"\n",
    "        \"Do not attempt to run a query if the column is not among available columns.\\n\"\n",
    "        \"Do not use unexistant colums in a WHERE part of the query. \\n\"\n",
    "    )}\n",
    ")"
   ]
  },
  {
   "cell_type": "code",
   "execution_count": 12,
   "metadata": {},
   "outputs": [],
   "source": [
    "openai.log = \"debug\""
   ]
  },
  {
   "cell_type": "code",
   "execution_count": 13,
   "metadata": {},
   "outputs": [
    {
     "name": "stdout",
     "output_type": "stream",
     "text": [
      "INFO:llama_index.indices.struct_store.sql_retriever:> Table desc str: Table 'cat_breeds' has columns: name (VARCHAR(16)), origin (VARCHAR(16)), temperament (VARCHAR(16)), size (VARCHAR(16)), social_behavior (VARCHAR(16)), and foreign keys: . The table description is: The only columns available are: name,origin,temperament,size,social_behavior. Do not use other columns and foreign keys. \n",
      "Do not attempt to run a query if the column is not among available columns.\n",
      "Do not use unexistant colums in a WHERE part of the query. \n",
      "\n",
      "> Table desc str: Table 'cat_breeds' has columns: name (VARCHAR(16)), origin (VARCHAR(16)), temperament (VARCHAR(16)), size (VARCHAR(16)), social_behavior (VARCHAR(16)), and foreign keys: . The table description is: The only columns available are: name,origin,temperament,size,social_behavior. Do not use other columns and foreign keys. \n",
      "Do not attempt to run a query if the column is not among available columns.\n",
      "Do not use unexistant colums in a WHERE part of the query. \n",
      "\n",
      "> Table desc str: Table 'cat_breeds' has columns: name (VARCHAR(16)), origin (VARCHAR(16)), temperament (VARCHAR(16)), size (VARCHAR(16)), social_behavior (VARCHAR(16)), and foreign keys: . The table description is: The only columns available are: name,origin,temperament,size,social_behavior. Do not use other columns and foreign keys. \n",
      "Do not attempt to run a query if the column is not among available columns.\n",
      "Do not use unexistant colums in a WHERE part of the query. \n",
      "\n",
      "INFO:httpx:HTTP Request: POST https://api.openai.com/v1/chat/completions \"HTTP/1.1 200 OK\"\n",
      "HTTP Request: POST https://api.openai.com/v1/chat/completions \"HTTP/1.1 200 OK\"\n",
      "HTTP Request: POST https://api.openai.com/v1/chat/completions \"HTTP/1.1 200 OK\"\n",
      "INFO:httpx:HTTP Request: POST https://api.openai.com/v1/chat/completions \"HTTP/1.1 200 OK\"\n",
      "HTTP Request: POST https://api.openai.com/v1/chat/completions \"HTTP/1.1 200 OK\"\n",
      "HTTP Request: POST https://api.openai.com/v1/chat/completions \"HTTP/1.1 200 OK\"\n"
     ]
    }
   ],
   "source": [
    "# a query is executed using the NLSQLTableQueryEngine, and the response is stored in the variable response.\n",
    "response = query_engine.query(\"What kind of a temperament does a Ragdoll cat have?\")"
   ]
  },
  {
   "cell_type": "code",
   "execution_count": 14,
   "metadata": {},
   "outputs": [
    {
     "name": "stdout",
     "output_type": "stream",
     "text": [
      "A Ragdoll cat is known for having a gentle temperament.\n"
     ]
    }
   ],
   "source": [
    "print(response)"
   ]
  },
  {
   "cell_type": "code",
   "execution_count": 15,
   "metadata": {},
   "outputs": [
    {
     "data": {
      "text/plain": [
       "{'7e7fa347-9c15-4839-9b77-d179608195b9': {},\n",
       " 'sql_query': \"SELECT temperament\\nFROM cat_breeds\\nWHERE name = 'Ragdoll';\",\n",
       " 'result': [('gentle',)],\n",
       " 'col_keys': ['temperament']}"
      ]
     },
     "execution_count": 15,
     "metadata": {},
     "output_type": "execute_result"
    }
   ],
   "source": [
    "response.metadata"
   ]
  },
  {
   "cell_type": "code",
   "execution_count": null,
   "metadata": {},
   "outputs": [],
   "source": []
  }
 ],
 "metadata": {
  "kernelspec": {
   "display_name": "myenv",
   "language": "python",
   "name": "python3"
  },
  "language_info": {
   "codemirror_mode": {
    "name": "ipython",
    "version": 3
   },
   "file_extension": ".py",
   "mimetype": "text/x-python",
   "name": "python",
   "nbconvert_exporter": "python",
   "pygments_lexer": "ipython3",
   "version": "3.10.0"
  },
  "orig_nbformat": 4
 },
 "nbformat": 4,
 "nbformat_minor": 2
}
