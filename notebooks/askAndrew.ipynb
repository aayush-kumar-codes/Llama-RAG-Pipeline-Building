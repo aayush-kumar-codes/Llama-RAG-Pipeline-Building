{
 "cells": [
  {
   "cell_type": "markdown",
   "metadata": {},
   "source": [
    "Learning Objectives:\n",
    "   1. Exclude certain keywords from source text before giving responses\n",
    "   2. Decide similarity threshold score, top k nodes\n",
    "   3. Count #tokens while generating responses\n",
    "   2. Build a Metadataextractor"
   ]
  },
  {
   "cell_type": "code",
   "execution_count": 1,
   "metadata": {},
   "outputs": [],
   "source": [
    "import os"
   ]
  },
  {
   "cell_type": "code",
   "execution_count": 2,
   "metadata": {},
   "outputs": [],
   "source": [
    "import logging\n",
    "import sys\n",
    "import os\n",
    "\n",
    "logging.basicConfig(stream=sys.stdout, level=logging.INFO)\n",
    "logging.getLogger().addHandler(logging.StreamHandler(stream=sys.stdout))"
   ]
  },
  {
   "cell_type": "code",
   "execution_count": 3,
   "metadata": {},
   "outputs": [
    {
     "name": "stdout",
     "output_type": "stream",
     "text": [
      "INFO:numexpr.utils:NumExpr defaulting to 8 threads.\n",
      "NumExpr defaulting to 8 threads.\n"
     ]
    }
   ],
   "source": [
    "import os\n",
    "import numexpr as ne\n",
    "os.environ['NUMEXPR_MAX_THREADS'] = '4'\n",
    "os.environ['NUMEXPR_NUM_THREADS'] = '2'\n"
   ]
  },
  {
   "cell_type": "code",
   "execution_count": 4,
   "metadata": {},
   "outputs": [],
   "source": [
    "import openai"
   ]
  },
  {
   "cell_type": "code",
   "execution_count": 5,
   "metadata": {},
   "outputs": [],
   "source": [
    "import os\n",
    "# os.environ[\"OPENAI_API_KEY\"] = \"<Your API Key\"\n",
    "import openai\n",
    "openai.api_key = \"<Your API Key\""
   ]
  },
  {
   "cell_type": "code",
   "execution_count": 6,
   "metadata": {},
   "outputs": [
    {
     "data": {
      "text/plain": [
       "'d:\\\\LLMOps\\\\Udemy\\\\LLAMAINDEXSCRIPTS'"
      ]
     },
     "execution_count": 6,
     "metadata": {},
     "output_type": "execute_result"
    }
   ],
   "source": [
    "os.getcwd()"
   ]
  },
  {
   "cell_type": "markdown",
   "metadata": {},
   "source": [
    " Step 1. setting up a text indexing system using the llama_index library. It involves token counting, creating a service context, loading or creating an index, and persisting the index to disk."
   ]
  },
  {
   "cell_type": "code",
   "execution_count": 7,
   "metadata": {},
   "outputs": [],
   "source": [
    "import tiktoken\n",
    "from llama_index import ServiceContext\n",
    "from llama_index.callbacks import CallbackManager, TokenCountingHandler\n",
    "\n",
    "token_counter = TokenCountingHandler(\n",
    "    tokenizer=tiktoken.encoding_for_model(\"text-embedding-ada-002\").encode,\n",
    "    verbose=True\n",
    ")\n",
    "\n",
    "callback_manager= CallbackManager([token_counter])\n",
    "service_context = ServiceContext.from_defaults(callback_manager= callback_manager)"
   ]
  },
  {
   "cell_type": "code",
   "execution_count": 8,
   "metadata": {},
   "outputs": [
    {
     "name": "stdout",
     "output_type": "stream",
     "text": [
      "INFO:llama_index.indices.loading:Loading all indices.\n",
      "Loading all indices.\n",
      "loading from disk\n"
     ]
    }
   ],
   "source": [
    "from llama_index import VectorStoreIndex, SimpleDirectoryReader, StorageContext, load_index_from_storage, ServiceContext \n",
    "\n",
    "\n",
    "try:\n",
    "    storage_context = StorageContext.from_defaults(persist_dir='./storage/cache/andrew/sleep')\n",
    "    \n",
    "    #Attempts to load an index from the specified storage context using the previously created service_context.\n",
    "    index = load_index_from_storage(storage_context,service_context=service_context)\n",
    "    print('loading from disk')\n",
    "except:\n",
    "    print(\"except block encountered\")\n",
    "    documents = SimpleDirectoryReader('./assets/AndrewHuberman/sleep').load_data() #chunking up data, creating nodes from docx; All these nodes and \n",
    "    #documents need to be embedde in to vectors and Llama-Index needs to setup in-memory vector store and create an Index.\n",
    "    # service_context = ServiceContext.from_defaults(\"local:/BAAI/bge-base-en-v1.5\")\n",
    "    \n",
    "    \n",
    "    # This involves embedding the documents into vectors and setting up an in-memory vector store.\n",
    "    index = VectorStoreIndex.from_documents(documents, service_context=service_context)\n",
    "    index.storage_context.persist(persist_dir='./storage/cache/andrew/sleep/')\n",
    "    print('persisting to disk')\n",
    "\n"
   ]
  },
  {
   "cell_type": "code",
   "execution_count": 9,
   "metadata": {},
   "outputs": [
    {
     "data": {
      "text/plain": [
       "<llama_index.indices.vector_store.base.VectorStoreIndex at 0x1e85c6bbf70>"
      ]
     },
     "execution_count": 9,
     "metadata": {},
     "output_type": "execute_result"
    }
   ],
   "source": [
    "index"
   ]
  },
  {
   "cell_type": "code",
   "execution_count": 10,
   "metadata": {},
   "outputs": [],
   "source": [
    "openai.log = \"debug\""
   ]
  },
  {
   "cell_type": "code",
   "execution_count": 11,
   "metadata": {},
   "outputs": [],
   "source": [
    "from llama_index.prompts import PromptTemplate\n",
    "\n",
    "text_qa_template_str = (\n",
    "    \"Context information is below.\\n\"\n",
    "    \"---------------------\\n\"\n",
    "    \"{context_str}\\n\"\n",
    "    \"---------------------\\n\"\n",
    "    \"Using both the context information and also using your own knowledge, \"\n",
    "    \"answer the question: {query_str}\\n\"\n",
    "    \"If the context isn't helpful, you can also answer the question on your own.\\n\"\n",
    ")\n",
    "\n",
    "text_qa_template = PromptTemplate(text_qa_template_str)"
   ]
  },
  {
   "cell_type": "code",
   "execution_count": 12,
   "metadata": {},
   "outputs": [],
   "source": [
    "text_qa_template_str = (\n",
    "    \"You are an Andrew huberman assistant that can read Andrew Huberman podcast notes.\\n\"\n",
    "    \"Always answer the query only using the provided context information, \"\n",
    "    \"and not prior knowledge.\\n\"\n",
    "    \"Some rules to follow:\\n\"\n",
    "    \"1. Never directly reference the given context in your answer.\\n\"\n",
    "    \"2. Avoid statements like 'Based on the context, ...' or \"\n",
    "    \"'The context information ...' or anything along \"\n",
    "    \"those lines.\"\n",
    "    \"Context information is below.\\n\"\n",
    "    \"---------------------\\n\"\n",
    "    \"{context_str}\\n\"\n",
    "    \"---------------------\\n\"\n",
    "    \"Answer the question: {query_str}\\n\"\n",
    ")\n",
    "\n",
    "text_qa_template = PromptTemplate(text_qa_template_str)"
   ]
  },
  {
   "cell_type": "code",
   "execution_count": 13,
   "metadata": {},
   "outputs": [
    {
     "name": "stdout",
     "output_type": "stream",
     "text": [
      "INFO:httpx:HTTP Request: POST https://api.openai.com/v1/embeddings \"HTTP/1.1 200 OK\"\n",
      "HTTP Request: POST https://api.openai.com/v1/embeddings \"HTTP/1.1 200 OK\"\n",
      "Embedding Token Usage: 7\n",
      "INFO:httpx:HTTP Request: POST https://api.openai.com/v1/chat/completions \"HTTP/1.1 200 OK\"\n",
      "HTTP Request: POST https://api.openai.com/v1/chat/completions \"HTTP/1.1 200 OK\"\n",
      "LLM Prompt Token Usage: 2058\n",
      "LLM Completion Token Usage: 166\n"
     ]
    }
   ],
   "source": [
    "#Once you've an Index, you can use it as a query engine.\n",
    "response = index.as_query_engine(\n",
    "    text_qa_template = text_qa_template \n",
    ").query(\"How does sleep enhance learning memory?\")"
   ]
  },
  {
   "cell_type": "code",
   "execution_count": 14,
   "metadata": {},
   "outputs": [
    {
     "name": "stdout",
     "output_type": "stream",
     "text": [
      "Sleep enhances learning and memory by facilitating motor learning and the learning of specific details about events. Slow wave sleep, which primarily occurs in the early part of the night, is important for motor skill learning and the acquisition of detailed information. During slow wave sleep, there is a release of neuromodulators such as norepinephrine and serotonin, which contribute to the consolidation of learning. Additionally, REM sleep, which occurs throughout the night with a larger percentage towards morning, is also involved in learning and memory processes. Consistently getting a regular amount of sleep each night is more important for learning and performance than simply getting more sleep overall. Variations in sleep duration can lead to a reduction in performance on exams. Therefore, maintaining a consistent sleep schedule and avoiding variations in sleep duration can optimize learning and memory consolidation during sleep.\n"
     ]
    }
   ],
   "source": [
    "print(response)"
   ]
  },
  {
   "cell_type": "code",
   "execution_count": 16,
   "metadata": {},
   "outputs": [],
   "source": [
    "from llama_index.response.pprint_utils import pprint_response\n"
   ]
  },
  {
   "cell_type": "code",
   "execution_count": 17,
   "metadata": {},
   "outputs": [
    {
     "name": "stdout",
     "output_type": "stream",
     "text": [
      "INFO:httpx:HTTP Request: POST https://api.openai.com/v1/embeddings \"HTTP/1.1 200 OK\"\n",
      "HTTP Request: POST https://api.openai.com/v1/embeddings \"HTTP/1.1 200 OK\"\n",
      "Embedding Token Usage: 7\n",
      "INFO:httpx:HTTP Request: POST https://api.openai.com/v1/chat/completions \"HTTP/1.1 200 OK\"\n",
      "HTTP Request: POST https://api.openai.com/v1/chat/completions \"HTTP/1.1 200 OK\"\n",
      "LLM Prompt Token Usage: 2025\n",
      "LLM Completion Token Usage: 185\n",
      "Final Response: To sleep better, there are several things you can try.\n",
      "First, you can lower your core body temperature by taking a hot shower\n",
      "or bath and then cooling off. This can help bring your nervous system\n",
      "into a state of calmness. Additionally, you can establish a consistent\n",
      "sleep routine by following a morning and afternoon routine, avoiding\n",
      "caffeine in the hours leading up to bedtime, and creating a cool and\n",
      "dark sleep environment. Elevating your feet or the head side of your\n",
      "bed can also improve the depth of sleep. If you suffer from sleep\n",
      "apnea, it is important to address it as it can have detrimental\n",
      "effects on your health. One way to improve sleep apnea is by training\n",
      "yourself to be a nose breather during sleep, which can be done by\n",
      "taping your mouth shut. Finally, there are sleep supplements such as\n",
      "magnesium threonate, apigenin, and theanine that can enhance the\n",
      "quality of sleep.\n"
     ]
    }
   ],
   "source": [
    "#Method 2\n",
    "query_engine = index.as_query_engine()\n",
    "response = query_engine.query(\"What can I do to sleep better\")\n",
    "pprint_response(response)"
   ]
  },
  {
   "cell_type": "code",
   "execution_count": 18,
   "metadata": {},
   "outputs": [
    {
     "name": "stdout",
     "output_type": "stream",
     "text": [
      "Final Response: To sleep better, there are several things you can try.\n",
      "First, you can lower your core body temperature by taking a hot shower\n",
      "or bath and then cooling off. This can help bring your nervous system\n",
      "into a state of calmness. Additionally, you can establish a consistent\n",
      "sleep routine by following a morning and afternoon routine, avoiding\n",
      "caffeine in the hours leading up to bedtime, and creating a cool and\n",
      "dark sleep environment. Elevating your feet or the head side of your\n",
      "bed can also improve the depth of sleep. If you suffer from sleep\n",
      "apnea, it is important to address it as it can have detrimental\n",
      "effects on your health. One way to improve sleep apnea is by training\n",
      "yourself to be a nose breather during sleep, which can be done by\n",
      "taping your mouth shut. Finally, there are sleep supplements such as\n",
      "magnesium threonate, apigenin, and theanine that can enhance the\n",
      "quality of sleep.\n"
     ]
    }
   ],
   "source": [
    "pprint_response(response)"
   ]
  },
  {
   "cell_type": "code",
   "execution_count": 21,
   "metadata": {},
   "outputs": [
    {
     "name": "stdout",
     "output_type": "stream",
     "text": [
      "[NodeWithScore(node=TextNode(id_='a7f08eb8-31e6-4124-b12e-90a25fae0d81', embedding=None, metadata={'file_path': 'assets\\\\AndrewHuberman\\\\sleep\\\\84_Sleep_Toolkit_Tools_for_Optimizing_Sleep_&_SleepWake_Timing_Huberman_Lab_Podcast_84.txt', 'file_name': '84_Sleep_Toolkit_Tools_for_Optimizing_Sleep_&_SleepWake_Timing_Huberman_Lab_Podcast_84.txt', 'file_type': 'text/plain', 'file_size': 113543, 'creation_date': '2023-12-11', 'last_modified_date': '2023-12-11', 'last_accessed_date': '2023-12-15'}, excluded_embed_metadata_keys=['file_name', 'file_type', 'file_size', 'creation_date', 'last_modified_date', 'last_accessed_date'], excluded_llm_metadata_keys=['file_name', 'file_type', 'file_size', 'creation_date', 'last_modified_date', 'last_accessed_date'], relationships={<NodeRelationship.SOURCE: '1'>: RelatedNodeInfo(node_id='assets\\\\AndrewHuberman\\\\sleep\\\\84_Sleep_Toolkit_Tools_for_Optimizing_Sleep_&_SleepWake_Timing_Huberman_Lab_Podcast_84.txt', node_type=<ObjectType.DOCUMENT: '4'>, metadata={'file_path': 'assets\\\\AndrewHuberman\\\\sleep\\\\84_Sleep_Toolkit_Tools_for_Optimizing_Sleep_&_SleepWake_Timing_Huberman_Lab_Podcast_84.txt', 'file_name': '84_Sleep_Toolkit_Tools_for_Optimizing_Sleep_&_SleepWake_Timing_Huberman_Lab_Podcast_84.txt', 'file_type': 'text/plain', 'file_size': 113543, 'creation_date': '2023-12-11', 'last_modified_date': '2023-12-11', 'last_accessed_date': '2023-12-15'}, hash='65c558b6c9a49bcc1ddcd6c185e36ef289d70f803f3a310615a3da678cfa6e87'), <NodeRelationship.PREVIOUS: '2'>: RelatedNodeInfo(node_id='5d39fef7-6f9a-4647-a8a4-2115bed76558', node_type=<ObjectType.TEXT: '1'>, metadata={'file_path': 'assets\\\\AndrewHuberman\\\\sleep\\\\84_Sleep_Toolkit_Tools_for_Optimizing_Sleep_&_SleepWake_Timing_Huberman_Lab_Podcast_84.txt', 'file_name': '84_Sleep_Toolkit_Tools_for_Optimizing_Sleep_&_SleepWake_Timing_Huberman_Lab_Podcast_84.txt', 'file_type': 'text/plain', 'file_size': 113543, 'creation_date': '2023-12-11', 'last_modified_date': '2023-12-11', 'last_accessed_date': '2023-12-15'}, hash='e30b17ed85b012a38013af60dbe895e64e57a24283032afc39c7eaf76df7b3b3'), <NodeRelationship.NEXT: '3'>: RelatedNodeInfo(node_id='08974cd5-569b-4e98-8504-1c9656d7eb93', node_type=<ObjectType.TEXT: '1'>, metadata={}, hash='9c101a5074e2817537b456746462337bda2f61be0f143f3902f001aac54e5c9e')}, hash='5986406c8c481b56a6117081b90694fbb87a3947e9bd1043db3a11fec0e3c8d4', text=\"So let's say you do exercise late in the day and you're finding yourself very alert in the evening and you need to fall asleep, or let's say you've exercised and you needed four cups of espresso in order to do that exercise. Well, there are a few things that you can do to try and bring your nervous system down into more state of calmness, and you can do that also by lowering your core body temperature. One of those I already talked about before, taking a nice hot shower or a hot bath and then getting out and cooling off will decrease your body temperature. Maybe not enough to get you into sleep if you have a ton of caffeine in your system. But again, you can use this mechanism of temperature shifts to wake up or temperature shifts to fall asleep in ways that really can help you overcome some of the irregularities in your sleep-wake cycle and exercise cycle, et cetera. Because, of course, nobody's perfect. Some days we end up having to workout in the afternoon or we'll miss the workout entirely. Other days, we end up having that cup of coffee in the afternoon with a friend and then we have a hard time falling asleep. So you can use these tools not just in their optimized form, you know, being absolutely obsessive and compulsive about exactly when you do each of those tools. That would be wonderful, but life happens as they say and some days you're going to feel too alert at night and you want to fall asleep, or you've got to get up especially early the next morning and you're not somebody who normally goes to bed at 10:00 p.m. Well, that's when a something like a hot bath or a sauna can really benefit you because it can adjust your temperature rhythm accordingly. I would be remiss if I didn't touch on alcohol and CBD and THC. I always get questions about these. And I should say, of course, many places, but not all, THC is illegal. Although, there are medical uses and in some places, it's decriminalized, other places it's legal. Alcohol, of course, is consumed almost as frequently as caffeine is consumed. I personally don't drink alcohol. I don't have anything against it per se. I just don't tend to enjoy it. One of the reasons I don't enjoy it is if I drink alcohol, I simply fall asleep. So that doesn't really accomplish any of the things that I really want to accomplish because the sleep that one gets after drinking alcohol is greatly disrupted sleep. Hate to break it to you, but that's the truth. And when Dr. Matt Walker came on this podcast, he said exactly the same thing. While THC and alcohol do help some people fall asleep and maybe even stay asleep, the architecture of that sleep is suboptimal compared to the sleep they would get without alcohol or THC in their system. So I'm not here to tell you what to do or not to do. I'm certainly not the substance police. That's not my role. I'm just reporting to you the biology. If your sleep is not restoring you to the extent that you feel it should, or if you are regularly relying on a drink or two in order to fall asleep, or THC in order to fall asleep, that is disrupting your total pattern of sleep. However, I do realize that nowadays a lot of people are relying on THC and/or CBD, especially edible forms, in order to fall and stay asleep. And, you know, we can just acknowledge the data. It does seem that there's an anxiety lowering effect of some of those compounds that do help people who have a hard time falling and staying asleep because of reasons related to anxiety. Although, in a moment, we'll talk about some supplements and supplement protocols that can also assist in the ability to fall and stay asleep and that can adjust anxiety and that do not seem to disrupt sleep architecture in negative ways 01:11:45 Sleep Supplements: Magnesium Threonate, Apigenin & Theanine and, in fact, can enhance the depth and quality of sleep architecture. Okay, so you've done everything correctly up until now. You got your morning routine from critical period one. You've got your afternoon routine. You saw some sunlight in the afternoon. You avoided caffeine in the eight hours or 10 hours before bedtime. You're not drinking alcohol. You've cooled down the room. You're doing all these things right. You've dimmed the lights, et cetera, et cetera. What else can we do in order to optimize our sleep?\", start_char_idx=76043, end_char_idx=80352, text_template='{metadata_str}\\n\\n{content}', metadata_template='{key}: {value}', metadata_seperator='\\n'), score=0.8493235279311984), NodeWithScore(node=TextNode(id_='6e3daa88-eab7-47f6-8ef8-4b9abbe2c04d', embedding=None, metadata={'file_path': 'assets\\\\AndrewHuberman\\\\sleep\\\\84_Sleep_Toolkit_Tools_for_Optimizing_Sleep_&_SleepWake_Timing_Huberman_Lab_Podcast_84.txt', 'file_name': '84_Sleep_Toolkit_Tools_for_Optimizing_Sleep_&_SleepWake_Timing_Huberman_Lab_Podcast_84.txt', 'file_type': 'text/plain', 'file_size': 113543, 'creation_date': '2023-12-11', 'last_modified_date': '2023-12-11', 'last_accessed_date': '2023-12-15'}, excluded_embed_metadata_keys=['file_name', 'file_type', 'file_size', 'creation_date', 'last_modified_date', 'last_accessed_date'], excluded_llm_metadata_keys=['file_name', 'file_type', 'file_size', 'creation_date', 'last_modified_date', 'last_accessed_date'], relationships={<NodeRelationship.SOURCE: '1'>: RelatedNodeInfo(node_id='assets\\\\AndrewHuberman\\\\sleep\\\\84_Sleep_Toolkit_Tools_for_Optimizing_Sleep_&_SleepWake_Timing_Huberman_Lab_Podcast_84.txt', node_type=<ObjectType.DOCUMENT: '4'>, metadata={'file_path': 'assets\\\\AndrewHuberman\\\\sleep\\\\84_Sleep_Toolkit_Tools_for_Optimizing_Sleep_&_SleepWake_Timing_Huberman_Lab_Podcast_84.txt', 'file_name': '84_Sleep_Toolkit_Tools_for_Optimizing_Sleep_&_SleepWake_Timing_Huberman_Lab_Podcast_84.txt', 'file_type': 'text/plain', 'file_size': 113543, 'creation_date': '2023-12-11', 'last_modified_date': '2023-12-11', 'last_accessed_date': '2023-12-15'}, hash='65c558b6c9a49bcc1ddcd6c185e36ef289d70f803f3a310615a3da678cfa6e87'), <NodeRelationship.PREVIOUS: '2'>: RelatedNodeInfo(node_id='d3e3caf2-5bb9-456b-8ea9-5de9a198537b', node_type=<ObjectType.TEXT: '1'>, metadata={'file_path': 'assets\\\\AndrewHuberman\\\\sleep\\\\84_Sleep_Toolkit_Tools_for_Optimizing_Sleep_&_SleepWake_Timing_Huberman_Lab_Podcast_84.txt', 'file_name': '84_Sleep_Toolkit_Tools_for_Optimizing_Sleep_&_SleepWake_Timing_Huberman_Lab_Podcast_84.txt', 'file_type': 'text/plain', 'file_size': 113543, 'creation_date': '2023-12-11', 'last_modified_date': '2023-12-11', 'last_accessed_date': '2023-12-15'}, hash='57b67b197d04840318247800eb3cc0cf6b29dcf2ed0691cf7eaae63de1332343'), <NodeRelationship.NEXT: '3'>: RelatedNodeInfo(node_id='33230a96-9a94-46ee-8513-a438684323e4', node_type=<ObjectType.TEXT: '1'>, metadata={}, hash='e88bb7d678e1260bbe2b0690008beda854c8b1714ff5fd26213bd71773c3cc22')}, hash='292893aed734bf4aa116c6697edcc94519f2d5ca27e801cacdfd7db3d31efafc', text='I\\'m one such person. Although, I have family members that like using earplugs when they sleep. So it\\'s really up to you. You have to see whether or not those earplugs help or disrupt your sleep. For me, they\\'re no good. For some people, they really enjoy them. I don\\'t use an eye mask unless I\\'m sleeping in a really bright environment or I need to sleep on a plane and things of that sort. Other tools that I\\'ll just mention that have peer-reviewed research to support them. Elevating your feet either with a pillow or by elevating the end of your bed by about three to five degrees can be really beneficial for increasing the depth of sleep because of the so-called glymphatic washout. This is the movement of and circulation of fluids in your brain at night that lead to more wakefulness and actually can improve cognitive function and a number of other things related to brain health. There\\'s one caveat to that. For people that suffer from acid reflux, having your ankles elevated above your chest or above your heart in the middle of the night can actually exacerbate that acid reflux. You want to do the opposite. You want to actually elevate the head side of your bed by about three to five degrees. Now, one of the common causes of sleep disruption that has tremendously detrimental effects is so-called sleep apnea. So this is basically bouts of suffocation or lack of oxygenation during sleep. This is particularly the case for people that are very heavyset, and that heavyset could be from obesity, it could also be heavyset from having too much muscle. A lot of people who are carrying too much muscle will actually have sleep apnea without realizing it. Sleep apnea is actually very dangerous. It\\'s associated with a number of cardiovascular issues. It\\'s associated with sexual dysfunction. It\\'s associated with issues with cognition. Sleep apnea is bad. A lot of people will have to use the PAP, which is a, it\\'s a device. It looks like a sort of like a snorkel mask or a dive mask. It\\'s a whole apparatus that people will go to sleep with. However, many people can relieve themselves of sleep apnea provided it\\'s not too serious and can sleep much better, in fact, I think all people can sleep much better, if they train themselves to be nose breathers while they sleep. There are a lot of reasons to be a nose breather unless you are breathing very hard due to exercise or talking or eating. That was all covered in James Nestor\\'s book, \"Breath: The New Science of a Lost Art.\" It\\'s been covered in a number of different podcasts. We\\'ve talked about it on this podcast as well. It\\'s a good idea to be a nose breather unless you need to mouth breathe. And it\\'s a great idea, it\\'s a superb idea, to be a nose breather in sleep. And one way to really get good at that is to take a little bit of medical tape and to tape your mouth shut before going to sleep. You heard me right. Put some medical tape over your mouth and force yourself to nose breathe during sleep. It also prevents snoring in most cases. Really offsets sleep apnea. Sleep apnea, again, being a very serious health concern. I should also mention as a tool that if you have a hard time being a nose breather in sleep, you can try doing your cardiovascular exercise, at least the lower-intensity cardiovascular exercise, through purely nasal breathing. And one way to do that, again, is to tape your mouth shut or put a gulp of water in your mouth, but don\\'t actually swallow that mouth full of water, or to use a mouthpiece or just deliberately keep your mouth closed and insist on breathing through your nose. Most people find that when they start doing cardiovascular exercise that way, it\\'s really challenging at first, but over time, they actually can feel quite calm and still can generate a lot of physical effort purely using nose breathing. The reason that doing nose breathing during cardiovascular exercise translates to being a nose breather during sleep is that your sinuses actually can dilate, they\\'re plastic, and over time, plastic meaning they\\'re malleable that is, and they can become wider. You\\'re not going to get giant nostrils. Don\\'t worry about it.', start_char_idx=93245, end_char_idx=97396, text_template='{metadata_str}\\n\\n{content}', metadata_template='{key}: {value}', metadata_seperator='\\n'), score=0.8470806243017409)]\n"
     ]
    }
   ],
   "source": [
    "print(response.source_nodes)"
   ]
  },
  {
   "cell_type": "code",
   "execution_count": 22,
   "metadata": {},
   "outputs": [
    {
     "name": "stdout",
     "output_type": "stream",
     "text": [
      "Final Response: To sleep better, there are several things you can try.\n",
      "First, you can lower your core body temperature by taking a hot shower\n",
      "or bath and then cooling off. This can help bring your nervous system\n",
      "into a state of calmness. Additionally, you can establish a consistent\n",
      "sleep routine by following a morning and afternoon routine, avoiding\n",
      "caffeine in the hours leading up to bedtime, and creating a cool and\n",
      "dark sleep environment. Elevating your feet or the head side of your\n",
      "bed can also improve the depth of sleep. If you suffer from sleep\n",
      "apnea, it is important to address it as it can have detrimental\n",
      "effects on your health. One way to improve sleep apnea is by training\n",
      "yourself to be a nose breather during sleep, which can be done by\n",
      "taping your mouth shut. Finally, there are sleep supplements such as\n",
      "magnesium threonate, apigenin, and theanine that can enhance the\n",
      "quality of sleep.\n",
      "______________________________________________________________________\n",
      "Source Node 1/2\n",
      "Node ID: a7f08eb8-31e6-4124-b12e-90a25fae0d81\n",
      "Similarity: 0.8493235279311984\n",
      "Text: So let's say you do exercise late in the day and you're finding\n",
      "yourself very alert in the evening and you need to fall asleep, or\n",
      "let's say you've exercised and you needed four cups of espresso in\n",
      "order to do that exercise. Well, there are a few things that you can\n",
      "do to try and bring your nervous system down into more state of\n",
      "calmness, and yo...\n",
      "______________________________________________________________________\n",
      "Source Node 2/2\n",
      "Node ID: 6e3daa88-eab7-47f6-8ef8-4b9abbe2c04d\n",
      "Similarity: 0.8470806243017409\n",
      "Text: I'm one such person. Although, I have family members that like\n",
      "using earplugs when they sleep. So it's really up to you. You have to\n",
      "see whether or not those earplugs help or disrupt your sleep. For me,\n",
      "they're no good. For some people, they really enjoy them. I don't use\n",
      "an eye mask unless I'm sleeping in a really bright environment or I\n",
      "need t...\n"
     ]
    }
   ],
   "source": [
    "pprint_response(response, show_source=True)"
   ]
  },
  {
   "cell_type": "code",
   "execution_count": 23,
   "metadata": {},
   "outputs": [],
   "source": [
    "### What if you want to send more context to LLM; If you want to send 4 notes of data to your LLM.\n",
    "\n",
    "query_engine = index.as_query_engine()\n"
   ]
  },
  {
   "cell_type": "code",
   "execution_count": 24,
   "metadata": {},
   "outputs": [
    {
     "data": {
      "text/plain": [
       "<llama_index.indices.vector_store.base.VectorStoreIndex at 0x1e85c6bbf70>"
      ]
     },
     "execution_count": 24,
     "metadata": {},
     "output_type": "execute_result"
    }
   ],
   "source": [
    "index"
   ]
  },
  {
   "cell_type": "code",
   "execution_count": 25,
   "metadata": {},
   "outputs": [],
   "source": [
    "from llama_index.retrievers import VectorIndexRetriever #used for retrieving vectors or indexed data.\n",
    "from llama_index.query_engine import RetrieverQueryEngine #used for handling queries with the retriever.\n",
    "from llama_index.indices.postprocessor import SimilarityPostprocessor, KeywordNodePostprocessor #are likely used for post-processing the results of the query.\n",
    "from llama_index.response_synthesizers import get_response_synthesizer\n",
    "\n",
    "retriever = VectorIndexRetriever( index= index, \n",
    "                                     similarity_top_k=4,)\n",
    "\n",
    "\n",
    "s_processor = SimilarityPostprocessor( similarity_cutoff= 0.83)\n",
    "k_processor = KeywordNodePostprocessor( exclude_keywords= [\"supplements\"])\n",
    "response_synthesizer = get_response_synthesizer ( response_mode= \"no_text\")\n",
    "\n",
    "query_engine = RetrieverQueryEngine(\n",
    "                                    retriever=retriever,\n",
    "                                    node_postprocessors=[k_processor, s_processor],\n",
    "                                    \n",
    "                                )\n",
    "                                "
   ]
  },
  {
   "cell_type": "code",
   "execution_count": 27,
   "metadata": {},
   "outputs": [
    {
     "name": "stdout",
     "output_type": "stream",
     "text": [
      "INFO:httpx:HTTP Request: POST https://api.openai.com/v1/embeddings \"HTTP/1.1 200 OK\"\n",
      "HTTP Request: POST https://api.openai.com/v1/embeddings \"HTTP/1.1 200 OK\"\n",
      "Embedding Token Usage: 7\n",
      "INFO:httpx:HTTP Request: POST https://api.openai.com/v1/chat/completions \"HTTP/1.1 200 OK\"\n",
      "HTTP Request: POST https://api.openai.com/v1/chat/completions \"HTTP/1.1 200 OK\"\n",
      "LLM Prompt Token Usage: 3020\n",
      "LLM Completion Token Usage: 222\n",
      "Final Response: To sleep better, there are several things you can try.\n",
      "First, you can experiment with using earplugs and an eye mask to see\n",
      "if they help or disrupt your sleep. Elevating your feet with a pillow\n",
      "or by raising the end of your bed can also improve the depth of your\n",
      "sleep. However, if you suffer from acid reflux, it's better to elevate\n",
      "the head side of your bed instead. Sleep apnea can be a serious issue,\n",
      "so if you suspect you have it, it's important to seek medical advice.\n",
      "Being a nose breather during sleep can help alleviate sleep apnea, and\n",
      "you can train yourself to be a nose breather by taping your mouth shut\n",
      "before going to sleep. Keeping your sleeping environment cool or even\n",
      "cold can also facilitate better sleep. You can achieve this by using a\n",
      "controllable temperature mattress cover, a fan, or opening a window.\n",
      "Additionally, lowering your core body temperature by taking a hot\n",
      "shower or bath before bed can help you fall asleep. Finally, using\n",
      "light and darkness as cues, along with temperature, can help regulate\n",
      "your sleep-wake cycle.\n",
      "______________________________________________________________________\n",
      "Source Node 1/3\n",
      "Node ID: 6e3daa88-eab7-47f6-8ef8-4b9abbe2c04d\n",
      "Similarity: 0.8471691941863171\n",
      "Text: I'm one such person. Although, I have family members that like\n",
      "using earplugs when they sleep. So it's really up to you. You have to\n",
      "see whether or not those earplugs help or disrupt your sleep. For me,\n",
      "they're no good. For some people, they really enjoy them. I don't use\n",
      "an eye mask unless I'm sleeping in a really bright environment or I\n",
      "need t...\n",
      "______________________________________________________________________\n",
      "Source Node 2/3\n",
      "Node ID: 5d39fef7-6f9a-4647-a8a4-2115bed76558\n",
      "Similarity: 0.840511601959647\n",
      "Text: So if you're somebody that enjoys hot baths, hot showers, or hot\n",
      "tubs, evening and nighttime is going to be the best time to do that if\n",
      "your goal is to facilitate sleep. Similarly, you should try and make\n",
      "your sleeping environment pretty cool, if not cold. Now, that doesn't\n",
      "mean you need to be cold while you're asleep. You can get under as\n",
      "many ...\n",
      "______________________________________________________________________\n",
      "Source Node 3/3\n",
      "Node ID: fe59dec2-fd7c-48bd-9d0d-490d02e538c8\n",
      "Similarity: 0.8387421954530819\n",
      "Text: And I already thought I was sleeping pretty well. The way it\n",
      "works is that you can cool or heat your mattress according to\n",
      "different times throughout the night. So for instance, you can cool\n",
      "your mattress if you tend to run warm and that will help you fall and\n",
      "stay deeply asleep and then toward morning, you can have the mattress\n",
      "programmed or, I...\n"
     ]
    }
   ],
   "source": [
    "\n",
    "response = query_engine.query(\"What can I do to sleep better\")\n",
    "pprint_response(response, show_source=True)"
   ]
  },
  {
   "cell_type": "code",
   "execution_count": 28,
   "metadata": {},
   "outputs": [],
   "source": [
    "from llama_index.retrievers import VectorIndexRetriever\n",
    "from llama_index.query_engine import RetrieverQueryEngine\n",
    "from llama_index.indices.postprocessor import SimilarityPostprocessor, KeywordNodePostprocessor\n",
    "from llama_index.response_synthesizers import get_response_synthesizer\n",
    "\n",
    "retriever = VectorIndexRetriever( index= index, \n",
    "                                     similarity_top_k=4,)\n",
    "\n",
    "\n",
    "s_processor = SimilarityPostprocessor( similarity_cutoff= 0.83)\n",
    "k_processor = KeywordNodePostprocessor( exclude_keywords= [\"supplements\"])\n",
    "response_synthesizer = get_response_synthesizer ( response_mode= \"no_text\")  # \"Compact\" is another response mode\n",
    "\n",
    "query_engine = RetrieverQueryEngine(\n",
    "                                    retriever=retriever,\n",
    "                                    node_postprocessors=[k_processor],\n",
    "                                    response_synthesizer=response_synthesizer\n",
    "                                    \n",
    "                                )\n",
    "                                \n",
    "                                \n"
   ]
  },
  {
   "cell_type": "code",
   "execution_count": 29,
   "metadata": {},
   "outputs": [
    {
     "name": "stdout",
     "output_type": "stream",
     "text": [
      "INFO:httpx:HTTP Request: POST https://api.openai.com/v1/embeddings \"HTTP/1.1 200 OK\"\n",
      "HTTP Request: POST https://api.openai.com/v1/embeddings \"HTTP/1.1 200 OK\"\n",
      "Embedding Token Usage: 7\n",
      "Final Response:\n",
      "______________________________________________________________________\n",
      "Source Node 1/3\n",
      "Node ID: 6e3daa88-eab7-47f6-8ef8-4b9abbe2c04d\n",
      "Similarity: 0.8471691941863171\n",
      "Text: I'm one such person. Although, I have family members that like\n",
      "using earplugs when they sleep. So it's really up to you. You have to\n",
      "see whether or not those earplugs help or disrupt your sleep. For me,\n",
      "they're no good. For some people, they really enjoy them. I don't use\n",
      "an eye mask unless I'm sleeping in a really bright environment or I\n",
      "need t...\n",
      "______________________________________________________________________\n",
      "Source Node 2/3\n",
      "Node ID: 5d39fef7-6f9a-4647-a8a4-2115bed76558\n",
      "Similarity: 0.840511601959647\n",
      "Text: So if you're somebody that enjoys hot baths, hot showers, or hot\n",
      "tubs, evening and nighttime is going to be the best time to do that if\n",
      "your goal is to facilitate sleep. Similarly, you should try and make\n",
      "your sleeping environment pretty cool, if not cold. Now, that doesn't\n",
      "mean you need to be cold while you're asleep. You can get under as\n",
      "many ...\n",
      "______________________________________________________________________\n",
      "Source Node 3/3\n",
      "Node ID: fe59dec2-fd7c-48bd-9d0d-490d02e538c8\n",
      "Similarity: 0.8387421954530819\n",
      "Text: And I already thought I was sleeping pretty well. The way it\n",
      "works is that you can cool or heat your mattress according to\n",
      "different times throughout the night. So for instance, you can cool\n",
      "your mattress if you tend to run warm and that will help you fall and\n",
      "stay deeply asleep and then toward morning, you can have the mattress\n",
      "programmed or, I...\n"
     ]
    }
   ],
   "source": [
    "\n",
    "response = query_engine.query(\"What can I do to sleep better\")\n",
    "pprint_response(response, show_source=True)"
   ]
  },
  {
   "cell_type": "code",
   "execution_count": 40,
   "metadata": {},
   "outputs": [
    {
     "name": "stdout",
     "output_type": "stream",
     "text": [
      "INFO:llama_index.indices.loading:Loading all indices.\n",
      "Loading all indices.\n",
      "loading from disk\n"
     ]
    }
   ],
   "source": [
    "########## Count number of tokens while using llama-index\n",
    "\n",
    "import tiktoken\n",
    "from llama_index import ServiceContext\n",
    "from llama_index.callbacks import CallbackManager, TokenCountingHandler\n",
    "\n",
    "token_counter = TokenCountingHandler(\n",
    "    tokenizer=tiktoken.encoding_for_model(\"text-embedding-ada-002\").encode,\n",
    "    verbose=True\n",
    ")\n",
    "\n",
    "callback_manager= CallbackManager([token_counter])\n",
    "service_context = ServiceContext.from_defaults(callback_manager= callback_manager)\n",
    "\n",
    "from llama_index import VectorStoreIndex, SimpleDirectoryReader, StorageContext, load_index_from_storage, ServiceContext \n",
    "\n",
    "\n",
    "try:\n",
    "    storage_context = StorageContext.from_defaults(persist_dir='./storage/cache/andrew/sleep')\n",
    "    index = load_index_from_storage(storage_context,service_context=service_context)\n",
    "    print('loading from disk')\n",
    "except:\n",
    "    print(\"except block encountered\")\n",
    "    documents = SimpleDirectoryReader('./assets/AndrewHuberman/sleep').load_data() #chunking up data, creating nodes from docx; All these nodes and \n",
    "    #documents need to be embedde in to vectors and Llama-Index needs to setup in-memory vector store and create an Index.\n",
    "    # service_context = ServiceContext.from_defaults(\"local:/BAAI/bge-base-en-v1.5\")\n",
    "    index = VectorStoreIndex.from_documents(documents, service_context=service_context)\n",
    "    index.storage_context.persist(persist_dir='./storage/cache/andrew/sleep/')\n",
    "    print('persisting to disk')\n",
    "\n"
   ]
  },
  {
   "cell_type": "code",
   "execution_count": 42,
   "metadata": {},
   "outputs": [
    {
     "name": "stdout",
     "output_type": "stream",
     "text": [
      "INFO:httpx:HTTP Request: POST https://api.openai.com/v1/embeddings \"HTTP/1.1 200 OK\"\n",
      "HTTP Request: POST https://api.openai.com/v1/embeddings \"HTTP/1.1 200 OK\"\n",
      "Embedding Token Usage: 7\n",
      "INFO:httpx:HTTP Request: POST https://api.openai.com/v1/chat/completions \"HTTP/1.1 200 OK\"\n",
      "HTTP Request: POST https://api.openai.com/v1/chat/completions \"HTTP/1.1 200 OK\"\n",
      "LLM Prompt Token Usage: 2025\n",
      "LLM Completion Token Usage: 185\n",
      "Embedding tokens : 14 \n",
      " LLM Prompts : 4050 \n",
      " LLM Completitions  : 391 \n",
      " Total LLM Token Count  : 4441 \n",
      "\n",
      "To sleep better, there are several things you can try. First, you can lower your core body temperature by taking a hot shower or bath and then cooling off. This can help bring your nervous system into a state of calmness. Additionally, you can establish a consistent sleep routine by following a morning and afternoon routine, avoiding caffeine in the hours leading up to bedtime, and creating a cool and dark sleep environment. Elevating your feet or the head side of your bed can also improve the depth of sleep. If you suffer from sleep apnea, it is important to address it as it can have detrimental effects on your health. One way to improve sleep apnea is by training yourself to be a nose breather during sleep, which can be done by taping your mouth shut. Finally, there are sleep supplements such as magnesium threonate, apigenin, and theanine that can enhance the quality of sleep.\n"
     ]
    }
   ],
   "source": [
    "#Method 2\n",
    "query_engine = index.as_query_engine()\n",
    "response = query_engine.query(\"What can I do to sleep better\")\n",
    "print(\"Embedding tokens :\", token_counter.total_embedding_token_count,'\\n',\n",
    "      \"LLM Prompts :\", token_counter.prompt_llm_token_count,'\\n',\n",
    "      \"LLM Completitions  :\", token_counter.completion_llm_token_count,'\\n',\n",
    "      \"Total LLM Token Count  :\", token_counter.total_llm_token_count,'\\n',\n",
    "      )\n",
    "print(response)"
   ]
  },
  {
   "cell_type": "code",
   "execution_count": 43,
   "metadata": {},
   "outputs": [
    {
     "name": "stdout",
     "output_type": "stream",
     "text": [
      "INFO:httpx:HTTP Request: POST https://api.openai.com/v1/embeddings \"HTTP/1.1 200 OK\"\n",
      "HTTP Request: POST https://api.openai.com/v1/embeddings \"HTTP/1.1 200 OK\"\n",
      "Embedding Token Usage: 7\n",
      "INFO:httpx:HTTP Request: POST https://api.openai.com/v1/chat/completions \"HTTP/1.1 200 OK\"\n",
      "HTTP Request: POST https://api.openai.com/v1/chat/completions \"HTTP/1.1 200 OK\"\n",
      "LLM Prompt Token Usage: 2025\n",
      "LLM Completion Token Usage: 175\n",
      "Embedding tokens : 21 \n",
      " LLM Prompts : 6075 \n",
      " LLM Completitions  : 566 \n",
      " Total LLM Token Count  : 6641 \n",
      "\n",
      "To sleep better, there are several things you can try. First, you can lower your core body temperature by taking a hot shower or bath and then cooling off. This can help bring your nervous system into a state of calmness. Additionally, you can establish a consistent sleep routine by following a morning and afternoon routine, avoiding caffeine in the hours leading up to bedtime, and creating a cool and dark sleep environment. Elevating your feet or the head side of your bed can also improve the depth of sleep. If you suffer from sleep apnea, it may be beneficial to train yourself to be a nose breather during sleep by using medical tape to keep your mouth shut. This can help alleviate sleep apnea and prevent snoring. Finally, there are sleep supplements such as magnesium threonate, apigenin, and theanine that can enhance the quality of sleep.\n"
     ]
    }
   ],
   "source": [
    "#Method 2\n",
    "query_engine = index.as_query_engine()\n",
    "response = query_engine.query(\"What can I do to sleep better\")\n",
    "print(\"Embedding tokens :\", token_counter.total_embedding_token_count,'\\n',\n",
    "      \"LLM Prompts :\", token_counter.prompt_llm_token_count,'\\n',\n",
    "      \"LLM Completitions  :\", token_counter.completion_llm_token_count,'\\n',\n",
    "      \"Total LLM Token Count  :\", token_counter.total_llm_token_count,'\\n',\n",
    "      )\n",
    "print(response)"
   ]
  },
  {
   "cell_type": "code",
   "execution_count": 44,
   "metadata": {},
   "outputs": [
    {
     "name": "stdout",
     "output_type": "stream",
     "text": [
      "INFO:httpx:HTTP Request: POST https://api.openai.com/v1/embeddings \"HTTP/1.1 200 OK\"\n",
      "HTTP Request: POST https://api.openai.com/v1/embeddings \"HTTP/1.1 200 OK\"\n",
      "Embedding Token Usage: 7\n",
      "INFO:httpx:HTTP Request: POST https://api.openai.com/v1/chat/completions \"HTTP/1.1 200 OK\"\n",
      "HTTP Request: POST https://api.openai.com/v1/chat/completions \"HTTP/1.1 200 OK\"\n",
      "LLM Prompt Token Usage: 2025\n",
      "LLM Completion Token Usage: 183\n",
      "Embedding tokens : 7 \n",
      " LLM Prompts : 2025 \n",
      " LLM Completitions  : 183 \n",
      " Total LLM Token Count  : 2208 \n",
      "\n",
      "To sleep better, there are several things you can try. First, you can lower your core body temperature by taking a hot shower or bath and then cooling off. This can help calm your nervous system and prepare your body for sleep. Additionally, you should avoid consuming caffeine or alcohol, as they can disrupt your sleep patterns. It's also important to create a sleep-friendly environment by dimming the lights, cooling down the room, and using tools like earplugs or an eye mask if necessary. Elevating your feet or the head side of your bed can also enhance the depth of your sleep. If you suffer from sleep apnea, it's recommended to train yourself to be a nose breather during sleep by using medical tape to keep your mouth shut. Finally, consider incorporating lower-intensity cardiovascular exercise with nasal breathing into your routine, as this can help improve your ability to breathe through your nose during sleep.\n"
     ]
    }
   ],
   "source": [
    "#To reset token_counts\n",
    "\n",
    "token_counter.reset_counts()\n",
    "\n",
    "#Method 2\n",
    "query_engine = index.as_query_engine()\n",
    "response = query_engine.query(\"What can I do to sleep better\")\n",
    "print(\"Embedding tokens :\", token_counter.total_embedding_token_count,'\\n',\n",
    "      \"LLM Prompts :\", token_counter.prompt_llm_token_count,'\\n',\n",
    "      \"LLM Completitions  :\", token_counter.completion_llm_token_count,'\\n',\n",
    "      \"Total LLM Token Count  :\", token_counter.total_llm_token_count,'\\n',\n",
    "      )\n",
    "print(response)"
   ]
  },
  {
   "cell_type": "code",
   "execution_count": 46,
   "metadata": {},
   "outputs": [
    {
     "name": "stdout",
     "output_type": "stream",
     "text": [
      "INFO:httpx:HTTP Request: POST https://api.openai.com/v1/embeddings \"HTTP/1.1 200 OK\"\n",
      "HTTP Request: POST https://api.openai.com/v1/embeddings \"HTTP/1.1 200 OK\"\n",
      "Embedding Token Usage: 7\n",
      "INFO:httpx:HTTP Request: POST https://api.openai.com/v1/chat/completions \"HTTP/1.1 200 OK\"\n",
      "HTTP Request: POST https://api.openai.com/v1/chat/completions \"HTTP/1.1 200 OK\"\n",
      "LLM Prompt Token Usage: 2013\n",
      "LLM Completion Token Usage: 166\n"
     ]
    }
   ],
   "source": [
    "################ Refining prompts with user and system prompts\n",
    "\n",
    "from llama_index.prompts import PromptTemplate\n",
    "\n",
    "text_qa_template_str = (\n",
    "    \"Context information is below.\\n\"\n",
    "    \"---------------------\\n\"\n",
    "    \"{context_str}\\n\"\n",
    "    \"---------------------\\n\"\n",
    "    \"Using both the context information and also using your own knowledge, \"\n",
    "    \"answer the question: {query_str}\\n\"\n",
    "    \"If the context isn't helpful, you can also answer the question on your own.\\n\"\n",
    ")\n",
    "\n",
    "text_qa_template = PromptTemplate(text_qa_template_str)\n",
    "\n",
    "#Once you've an Index, you can use it as a query engine.\n",
    "response = index.as_query_engine(\n",
    "    text_qa_template = text_qa_template \n",
    ").query(\"How does sleep enhance learning memory?\")"
   ]
  },
  {
   "cell_type": "code",
   "execution_count": 50,
   "metadata": {},
   "outputs": [
    {
     "name": "stdout",
     "output_type": "stream",
     "text": [
      "INFO:httpx:HTTP Request: POST https://api.openai.com/v1/embeddings \"HTTP/1.1 200 OK\"\n",
      "HTTP Request: POST https://api.openai.com/v1/embeddings \"HTTP/1.1 200 OK\"\n",
      "Embedding Token Usage: 7\n",
      "INFO:httpx:HTTP Request: POST https://api.openai.com/v1/chat/completions \"HTTP/1.1 200 OK\"\n",
      "HTTP Request: POST https://api.openai.com/v1/chat/completions \"HTTP/1.1 200 OK\"\n",
      "LLM Prompt Token Usage: 2058\n",
      "LLM Completion Token Usage: 166\n",
      "Sleep enhances learning and memory by facilitating motor learning and the learning of specific details about events. Slow wave sleep, which primarily occurs in the early part of the night, is important for motor skill learning and the acquisition of detailed information. During slow wave sleep, there is a release of neuromodulators such as norepinephrine and serotonin, which contribute to the consolidation of learning. Additionally, REM sleep, which occurs throughout the night with a larger percentage towards morning, is also involved in learning and memory processes. Consistently getting a regular amount of sleep each night is more important for learning and performance than simply getting more sleep overall. Variations in sleep duration can lead to a reduction in performance on exams. Therefore, maintaining a consistent sleep schedule and avoiding variations in sleep duration can optimize learning and memory consolidation during sleep.\n"
     ]
    }
   ],
   "source": [
    "text_qa_template_str = (\n",
    "    \"You are an Andrew huberman assistant that can read Andrew Huberman podcast notes.\\n\"\n",
    "    \"Always answer the query only using the provided context information, \"\n",
    "    \"and not prior knowledge.\\n\"\n",
    "    \"Some rules to follow:\\n\"\n",
    "    \"1. Never directly reference the given context in your answer.\\n\"\n",
    "    \"2. Avoid statements like 'Based on the context, ...' or \"\n",
    "    \"'The context information ...' or anything along \"\n",
    "    \"those lines.\"\n",
    "    \"Context information is below.\\n\"\n",
    "    \"---------------------\\n\"\n",
    "    \"{context_str}\\n\"\n",
    "    \"---------------------\\n\"\n",
    "    \"Answer the question: {query_str}\\n\"\n",
    ")\n",
    "\n",
    "text_qa_template = PromptTemplate(text_qa_template_str)\n",
    "response = index.as_query_engine(\n",
    "    text_qa_template = text_qa_template \n",
    ").query(\"How does sleep enhance learning memory?\")\n",
    "\n",
    "print(response)"
   ]
  },
  {
   "cell_type": "code",
   "execution_count": 51,
   "metadata": {},
   "outputs": [
    {
     "name": "stdout",
     "output_type": "stream",
     "text": [
      "INFO:httpx:HTTP Request: POST https://api.openai.com/v1/embeddings \"HTTP/1.1 200 OK\"\n",
      "HTTP Request: POST https://api.openai.com/v1/embeddings \"HTTP/1.1 200 OK\"\n",
      "Embedding Token Usage: 7\n",
      "INFO:httpx:HTTP Request: POST https://api.openai.com/v1/chat/completions \"HTTP/1.1 200 OK\"\n",
      "HTTP Request: POST https://api.openai.com/v1/chat/completions \"HTTP/1.1 200 OK\"\n",
      "LLM Prompt Token Usage: 2058\n",
      "LLM Completion Token Usage: 166\n",
      "Sleep enhances learning and memory by facilitating motor learning and the learning of specific details about events. Slow wave sleep, which primarily occurs in the early part of the night, is important for motor skill learning and the acquisition of detailed information. During slow wave sleep, there is a release of neuromodulators such as norepinephrine and serotonin, which contribute to the consolidation of learning. Additionally, REM sleep, which occurs throughout the night with a larger percentage towards morning, is also involved in learning and memory processes. Consistently getting a regular amount of sleep each night is more important for learning and performance than simply getting more sleep overall. Variations in sleep duration can lead to a reduction in performance on exams. Therefore, maintaining a consistent sleep schedule and limiting variations in sleep duration is crucial for optimal learning and memory consolidation.\n"
     ]
    }
   ],
   "source": [
    "response = index.as_query_engine(\n",
    "    text_qa_template = text_qa_template \n",
    ").query(\"How does sleep enhance learning memory?\")\n",
    "\n",
    "print(response)"
   ]
  },
  {
   "cell_type": "code",
   "execution_count": 54,
   "metadata": {},
   "outputs": [
    {
     "name": "stdout",
     "output_type": "stream",
     "text": [
      "[NodeWithScore(node=TextNode(id_='93e79c9d-7fc4-40ff-a0db-a1597fcd6516', embedding=None, metadata={'file_path': 'assets\\\\AndrewHuberman\\\\sleep\\\\05_Understanding_and_Using_Dreams_to_Learn_and_to_Forget_Huberman_Lab_Podcast_5.txt', 'file_name': '05_Understanding_and_Using_Dreams_to_Learn_and_to_Forget_Huberman_Lab_Podcast_5.txt', 'file_type': 'text/plain', 'file_size': 75844, 'creation_date': '2023-12-11', 'last_modified_date': '2023-12-11', 'last_accessed_date': '2023-12-12'}, excluded_embed_metadata_keys=['file_name', 'file_type', 'file_size', 'creation_date', 'last_modified_date', 'last_accessed_date'], excluded_llm_metadata_keys=['file_name', 'file_type', 'file_size', 'creation_date', 'last_modified_date', 'last_accessed_date'], relationships={<NodeRelationship.SOURCE: '1'>: RelatedNodeInfo(node_id='92c4d4c0-d36d-4c26-9bb9-01932cc42c6b', node_type=<ObjectType.DOCUMENT: '4'>, metadata={'file_path': 'assets\\\\AndrewHuberman\\\\sleep\\\\05_Understanding_and_Using_Dreams_to_Learn_and_to_Forget_Huberman_Lab_Podcast_5.txt', 'file_name': '05_Understanding_and_Using_Dreams_to_Learn_and_to_Forget_Huberman_Lab_Podcast_5.txt', 'file_type': 'text/plain', 'file_size': 75844, 'creation_date': '2023-12-11', 'last_modified_date': '2023-12-11', 'last_accessed_date': '2023-12-12'}, hash='70da6412f7c3f10b86d3b0c79e7d0c15c0821f17f21fa9b937ee22606f2e4ee2'), <NodeRelationship.PREVIOUS: '2'>: RelatedNodeInfo(node_id='95d43acd-7956-4af6-adb3-8bed9ecb3804', node_type=<ObjectType.TEXT: '1'>, metadata={'file_path': 'assets\\\\AndrewHuberman\\\\sleep\\\\05_Understanding_and_Using_Dreams_to_Learn_and_to_Forget_Huberman_Lab_Podcast_5.txt', 'file_name': '05_Understanding_and_Using_Dreams_to_Learn_and_to_Forget_Huberman_Lab_Podcast_5.txt', 'file_type': 'text/plain', 'file_size': 75844, 'creation_date': '2023-12-11', 'last_modified_date': '2023-12-11', 'last_accessed_date': '2023-12-12'}, hash='bb95343ef4cb24bac0ebea6a0eacb2c2472930d0f10278669781ad04713f53b8'), <NodeRelationship.NEXT: '3'>: RelatedNodeInfo(node_id='521c4e3e-dcd5-489c-8484-fe95e7e18328', node_type=<ObjectType.TEXT: '1'>, metadata={}, hash='dafdd3d73265d7cd79e4f8136001b35c2b85eb23762c0fdb5c490ddcf6211ed1')}, hash='dacb75462b3ce35e46115a1ec7ff2c267d6720252cc4d81f740618b9b1929305', text=\"So if people are tested and in terms of their performance on these types of exams and they're deprived of slow wave sleep, they tend to perform very poorly. So we can think of slow wave sleep as important for motor learning, motor skill learning and for the learning of specific details about specific events. And this turns out to be fundamentally important because now we know that slow wave sleep is primarily in the early part of the night, and motor learning is occurring primarily early in the night, and detailed learning is occurring early in the night. Now for those of you that are waking up after only three, four hours of sleep, this might be informative. This might tell you a little something about what you are able to learn and not able to learn if that were to be the only sleep that you get. Although, hopefully that's not the only sleep that you get. But we're going to dive deep into how it is that one can maximize motor learning in order to extract say, more detail information about coordinated movements and how to make them faster or slower. So that might be important for certain sports. It might be almost certainly important for certain sports. It's gonna be important for any kind of coordinated movement, like say learning to play the piano, or for instance, how to learn synchronized movements with somebody else. So maybe I mentioned the example of dance earlier. Like me a few years ago, I set out to learn tango because I have some Argentine relatives and I was a Bismal. I need to return to that at some point. I was just a Bismal. And one of the worst things about being a bismal at learning dance is that, that somebody else has to suffer the consequences also. So I don't know maybe in the month on neuroplasticity, I'll explore that again as a self experimentation. But, the key things to know are slow wave sleep is involved in motor learning and detailed learning. There's no acetylcholine around at that time, has these big amplitude activity sweeping throughout the brain and that there's the release of these neuromodulators, norepinephrine and serotonin. And again, that's all happening early in the night. So athletes, people that are concerned about performance, if you happen to wake up after just a couple hours of, you know, three, four hours of sleep because you're excited about a competition the next day, presumably if you've already trained the skills that you need for the event you should be fine to engage in that particular activity. Now it's always going to be better to get a full night's sleep. And that, you know, a full night's sleep for you is six hours then it's always gonna be better to get more sleep than it is to get less. However, I think some people get a little bit overly concerned that if they didn't get their full night's sleep before some sort of physical event that their performance is going to plummet. Presumably, if you've already learned what you need to do, and it's stored in your neural circuits and you know how to make those coordinated movements, what the literature on slow wave sleep suggest is that you would be replenished. That the motor learning and the recovery from exercise is going to happen early in the night. Okay. So we'll just pause there, and kind of shelve that for a moment and then we're gonna come back to it. But I wanna talk about REM sleep, or rapid eye movement sleep. REM sleep and rapid eye movement sleep, as I mentioned before, occurs throughout the night, but you're gonna have more of it. A larger percentage of these 90 minute sleep cycles is going to be comprised of REM sleep as you get toward morning. REM sleep is fascinating. It was discovered in '50s when a sleep laboratory in Chicago, the researchers observed that people's eyes were moving under their eyelids. Now, something very important that we're going to address when we talk about trauma later is that, the eye movements are not just side to side they're very erratic in all different directions. One thing that I don't think I've never heard anyone really talk about publicly is, why eye movements during sleep, right? Eyes are closed. And sometimes people's eyelids will be a little bit open and their eyes are darting around, especially in little kids. I don't suggest you do this. I'm not even sure it's ethical. But, it has been done where you, you know, pull back the eyelids of a kid while they're sleeping and their eyes are kind of darting all over the place.\", start_char_idx=14122, end_char_idx=18578, text_template='{metadata_str}\\n\\n{content}', metadata_template='{key}: {value}', metadata_seperator='\\n'), score=0.858629395192022),\n",
      " NodeWithScore(node=TextNode(id_='8972e293-2461-4669-9eb4-b8959cfb912e', embedding=None, metadata={'file_path': 'assets\\\\AndrewHuberman\\\\sleep\\\\05_Understanding_and_Using_Dreams_to_Learn_and_to_Forget_Huberman_Lab_Podcast_5.txt', 'file_name': '05_Understanding_and_Using_Dreams_to_Learn_and_to_Forget_Huberman_Lab_Podcast_5.txt', 'file_type': 'text/plain', 'file_size': 75844, 'creation_date': '2023-12-11', 'last_modified_date': '2023-12-11', 'last_accessed_date': '2023-12-12'}, excluded_embed_metadata_keys=['file_name', 'file_type', 'file_size', 'creation_date', 'last_modified_date', 'last_accessed_date'], excluded_llm_metadata_keys=['file_name', 'file_type', 'file_size', 'creation_date', 'last_modified_date', 'last_accessed_date'], relationships={<NodeRelationship.SOURCE: '1'>: RelatedNodeInfo(node_id='92c4d4c0-d36d-4c26-9bb9-01932cc42c6b', node_type=<ObjectType.DOCUMENT: '4'>, metadata={'file_path': 'assets\\\\AndrewHuberman\\\\sleep\\\\05_Understanding_and_Using_Dreams_to_Learn_and_to_Forget_Huberman_Lab_Podcast_5.txt', 'file_name': '05_Understanding_and_Using_Dreams_to_Learn_and_to_Forget_Huberman_Lab_Podcast_5.txt', 'file_type': 'text/plain', 'file_size': 75844, 'creation_date': '2023-12-11', 'last_modified_date': '2023-12-11', 'last_accessed_date': '2023-12-12'}, hash='70da6412f7c3f10b86d3b0c79e7d0c15c0821f17f21fa9b937ee22606f2e4ee2'), <NodeRelationship.PREVIOUS: '2'>: RelatedNodeInfo(node_id='cf4f0cc5-2c1a-4068-b4f1-ed2d6f409222', node_type=<ObjectType.TEXT: '1'>, metadata={'file_path': 'assets\\\\AndrewHuberman\\\\sleep\\\\05_Understanding_and_Using_Dreams_to_Learn_and_to_Forget_Huberman_Lab_Podcast_5.txt', 'file_name': '05_Understanding_and_Using_Dreams_to_Learn_and_to_Forget_Huberman_Lab_Podcast_5.txt', 'file_type': 'text/plain', 'file_size': 75844, 'creation_date': '2023-12-11', 'last_modified_date': '2023-12-11', 'last_accessed_date': '2023-12-12'}, hash='c940de9a8e0f381cc79ec8a59ac653db3171e43af0c72bd9acd2025c047dc8d7'), <NodeRelationship.NEXT: '3'>: RelatedNodeInfo(node_id='05165311-3327-4277-ac45-5a33d8bd7971', node_type=<ObjectType.TEXT: '1'>, metadata={}, hash='85be384d5fa3ce069e800f6c24e3a651a2ff45faf1babb8bfd7a20f1d94cfbbc')}, hash='8b0c4358f23b9c175f3f442e32bac60aa7c90752b9aae3006e1d570de8aa9eb4', text='And for many people those devices can be quite useful. Some people are only gauging their sleep by way of whether or not they feel rested, whether or not they feel like they\\'re learning and they\\'re getting better or not. There are some things that one can really do. And the first one might surprise you in light of everything I\\'ve said, and probably everything you\\'ve heard about sleep. There was a study done by a Harvard undergraduate, Emily Hoagland, who was in Robert Stickgold\\'s lab at the time. And that\\'s the study explored how variations in total sleep time related to learning, as compared to total sleep time itself. And to summarize the study, what they found was that it was more important to have a regular amount of sleep each night as opposed to the total duration. 53:15 Sleep Consistency In other words, and what they showed was that improvements in learning or deficits in learning were more related to whether or not you got six hours, six hours, five hours, six hours, that was better than if somebody got for instance, six hours, 10 hours, seven hours, four or five hours. See you might say, \"Well, that\\'s crazy because I thought we were just all supposed to get more sleep and there\\'s more REM towards morning.\" It turns out that forsake of learning new information and performance on exams in particular, that\\'s what was measured, limiting the variation in the amount of your sleep is at least as important and perhaps more important than just getting more sleep overall. And I think this will bring people great relief, many people great relief who are struggling to \"get enough sleep.\" Remember, a few episodes ago I talked about the difference between fatigue and insomnia. You know, fatigue tends to be when we are tired. Insomnia tends to lead to a sleepiness during the day when we\\'re falling asleep. And you don\\'t want that, you don\\'t want either of those things really. But, I found it striking that the data from this study really point to the fact that consistently getting about the same amount of sleep is better than just getting more sleep. And I think nowadays so many people are just aiming for more sleep, and they\\'re rather troubled about the fact that they\\'re only getting five hours, or they\\'re only getting six hours in some cases. It may be the case that they are sleep deprived and they need more sleep, but some people just have a lower sleep need. And I find great relief, personally, in the fact that consistently getting, for me, about six hours or six and a half hours is going to be more beneficial than constantly striving for eight or nine and finding that some nights I\\'m getting five and sometimes I\\'m getting nine and varying around the mean. As I recall, and I think I\\'m gonna get this precisely right, but if not I know that I\\'m at least close. For every hour variation in sleep regardless of whether or not it was more sleep than one typically got, there was a 17% reduction in performance on this particular exam type. So this is powerful. This means that we should strive for a regular amount of sleep. And for some of us that means falling asleep and waking up and going back to sleep. For some people means falling asleep and waking up and not getting back to sleep. Now ideally, you\\'re getting the full compliment of slow wave sleep early at night and sleep toward morning, which is REM sleep. Which brings us to, how to get more REM sleep. Well, there are a couple of different ways but here\\'s how to not get more REM sleep. All right. First of all, drink a lot of fluid right before going to sleep. One of the reasons why we wake up in the middle of the night to use the bathroom is because when our bladder is full there is a neural connection, literally a set of neurons and a nerve circuit that goes to the brain stem that wakes us up. Actually some people that I know and won\\'t be mentioned, actually use this to try and adjust for their jet lag when they\\'re trying to stay awake. Having to urinate is one of the most anxiety evoking experiences anyone can have. If you really have to go to the bathroom it\\'s very hard to fall asleep or stay asleep. And bedwetting, which happens in kids very early on is a failure of those circuits to mature until, you know, I think we all assume that babies are gonna pee in their sleep, but adults aren\\'t supposed to do that. And the circuits take some time to develop and in some kids they develop a little bit later than others.', start_char_idx=50726, end_char_idx=55165, text_template='{metadata_str}\\n\\n{content}', metadata_template='{key}: {value}', metadata_seperator='\\n'), score=0.8560552947246921)]\n"
     ]
    }
   ],
   "source": [
    "# from pprint import pprint\n",
    "print(response.source_nodes)\n",
    "# pprint(response.source_nodes)"
   ]
  },
  {
   "cell_type": "code",
   "execution_count": 18,
   "metadata": {},
   "outputs": [],
   "source": [
    "## Documents and Nodes in LlamaIndex: Enhances Chatbot's Contextual understanding\n",
    "from llama_index import SimpleDirectoryReader\n",
    "andrew_gina_docs= SimpleDirectoryReader(input_files=[\"./assets/AndrewHuberman/sleep/115_Dr_Gina_Poe_Use_Sleep_to_Enhance_Learning_Memory_&_Emotional_State_Huberman_Lab_Podcast.txt\"]).load_data()"
   ]
  },
  {
   "cell_type": "code",
   "execution_count": 19,
   "metadata": {},
   "outputs": [
    {
     "name": "stdout",
     "output_type": "stream",
     "text": [
      "1\n"
     ]
    }
   ],
   "source": [
    "print(len(andrew_gina_docs))"
   ]
  },
  {
   "cell_type": "code",
   "execution_count": 22,
   "metadata": {},
   "outputs": [],
   "source": [
    "from llama_index.extractors import (\n",
    "    QuestionsAnsweredExtractor,\n",
    "    TitleExtractor,\n",
    "\n",
    ")\n",
    "\n",
    "from llama_index.text_splitter import TokenTextSplitter\n",
    "from llama_index.node_parser import SimpleNodeParser\n",
    "\n",
    "text_splitter = TokenTextSplitter(separator=\" \", chunk_size=512, chunk_overlap=20)\n",
    "\n",
    "\n",
    "\n",
    "extractors = [\n",
    "    TitleExtractor(nodes=5),\n",
    "    QuestionsAnsweredExtractor(questions=3)\n",
    "]\n",
    "\n",
    "transformations = [text_splitter] + extractors\n",
    "\n",
    "\n"
   ]
  },
  {
   "cell_type": "code",
   "execution_count": 26,
   "metadata": {},
   "outputs": [],
   "source": [
    "# # import asyncio\n",
    "# # await asyncio.sleep(10, result='hello')\n",
    "\n",
    "# import nest_asyncio\n",
    "# nest_asyncio.apply()"
   ]
  },
  {
   "cell_type": "code",
   "execution_count": 31,
   "metadata": {},
   "outputs": [
    {
     "name": "stdout",
     "output_type": "stream",
     "text": [
      "467\n"
     ]
    },
    {
     "name": "stderr",
     "output_type": "stream",
     "text": [
      "  0%|          | 0/5 [00:00<?, ?it/s]"
     ]
    },
    {
     "name": "stdout",
     "output_type": "stream",
     "text": [
      "INFO:httpx:HTTP Request: POST https://api.openai.com/v1/chat/completions \"HTTP/1.1 200 OK\"\n",
      "HTTP Request: POST https://api.openai.com/v1/chat/completions \"HTTP/1.1 200 OK\"\n"
     ]
    },
    {
     "name": "stderr",
     "output_type": "stream",
     "text": [
      " 20%|██        | 1/5 [00:01<00:04,  1.15s/it]"
     ]
    },
    {
     "name": "stdout",
     "output_type": "stream",
     "text": [
      "INFO:httpx:HTTP Request: POST https://api.openai.com/v1/chat/completions \"HTTP/1.1 200 OK\"\n",
      "HTTP Request: POST https://api.openai.com/v1/chat/completions \"HTTP/1.1 200 OK\"\n"
     ]
    },
    {
     "name": "stderr",
     "output_type": "stream",
     "text": [
      " 40%|████      | 2/5 [00:01<00:01,  1.72it/s]"
     ]
    },
    {
     "name": "stdout",
     "output_type": "stream",
     "text": [
      "INFO:httpx:HTTP Request: POST https://api.openai.com/v1/chat/completions \"HTTP/1.1 200 OK\"\n",
      "HTTP Request: POST https://api.openai.com/v1/chat/completions \"HTTP/1.1 200 OK\"\n",
      "INFO:httpx:HTTP Request: POST https://api.openai.com/v1/chat/completions \"HTTP/1.1 200 OK\"\n",
      "HTTP Request: POST https://api.openai.com/v1/chat/completions \"HTTP/1.1 200 OK\"\n"
     ]
    },
    {
     "name": "stderr",
     "output_type": "stream",
     "text": [
      " 80%|████████  | 4/5 [00:01<00:00,  3.71it/s]"
     ]
    },
    {
     "name": "stdout",
     "output_type": "stream",
     "text": [
      "INFO:httpx:HTTP Request: POST https://api.openai.com/v1/chat/completions \"HTTP/1.1 200 OK\"\n",
      "HTTP Request: POST https://api.openai.com/v1/chat/completions \"HTTP/1.1 200 OK\"\n"
     ]
    },
    {
     "name": "stderr",
     "output_type": "stream",
     "text": [
      "100%|██████████| 5/5 [00:02<00:00,  1.75it/s]\n"
     ]
    },
    {
     "name": "stdout",
     "output_type": "stream",
     "text": [
      "INFO:httpx:HTTP Request: POST https://api.openai.com/v1/chat/completions \"HTTP/1.1 200 OK\"\n",
      "HTTP Request: POST https://api.openai.com/v1/chat/completions \"HTTP/1.1 200 OK\"\n"
     ]
    },
    {
     "name": "stderr",
     "output_type": "stream",
     "text": [
      "  0%|          | 0/62 [00:00<?, ?it/s]"
     ]
    },
    {
     "name": "stdout",
     "output_type": "stream",
     "text": [
      "INFO:httpx:HTTP Request: POST https://api.openai.com/v1/chat/completions \"HTTP/1.1 200 OK\"\n",
      "HTTP Request: POST https://api.openai.com/v1/chat/completions \"HTTP/1.1 200 OK\"\n"
     ]
    },
    {
     "name": "stderr",
     "output_type": "stream",
     "text": [
      "  2%|▏         | 1/62 [00:03<03:39,  3.60s/it]"
     ]
    },
    {
     "name": "stdout",
     "output_type": "stream",
     "text": [
      "INFO:httpx:HTTP Request: POST https://api.openai.com/v1/chat/completions \"HTTP/1.1 200 OK\"\n",
      "HTTP Request: POST https://api.openai.com/v1/chat/completions \"HTTP/1.1 200 OK\"\n"
     ]
    },
    {
     "name": "stderr",
     "output_type": "stream",
     "text": [
      "  3%|▎         | 2/62 [00:04<01:45,  1.76s/it]"
     ]
    },
    {
     "name": "stdout",
     "output_type": "stream",
     "text": [
      "INFO:httpx:HTTP Request: POST https://api.openai.com/v1/chat/completions \"HTTP/1.1 200 OK\"\n",
      "HTTP Request: POST https://api.openai.com/v1/chat/completions \"HTTP/1.1 200 OK\"\n"
     ]
    },
    {
     "name": "stderr",
     "output_type": "stream",
     "text": [
      "  5%|▍         | 3/62 [00:04<01:10,  1.19s/it]"
     ]
    },
    {
     "name": "stdout",
     "output_type": "stream",
     "text": [
      "INFO:httpx:HTTP Request: POST https://api.openai.com/v1/chat/completions \"HTTP/1.1 200 OK\"\n",
      "HTTP Request: POST https://api.openai.com/v1/chat/completions \"HTTP/1.1 200 OK\"\n"
     ]
    },
    {
     "name": "stderr",
     "output_type": "stream",
     "text": [
      "  6%|▋         | 4/62 [00:08<02:05,  2.16s/it]"
     ]
    },
    {
     "name": "stdout",
     "output_type": "stream",
     "text": [
      "INFO:httpx:HTTP Request: POST https://api.openai.com/v1/chat/completions \"HTTP/1.1 200 OK\"\n",
      "HTTP Request: POST https://api.openai.com/v1/chat/completions \"HTTP/1.1 200 OK\"\n"
     ]
    },
    {
     "name": "stderr",
     "output_type": "stream",
     "text": [
      "  8%|▊         | 5/62 [00:09<01:50,  1.94s/it]"
     ]
    },
    {
     "name": "stdout",
     "output_type": "stream",
     "text": [
      "INFO:httpx:HTTP Request: POST https://api.openai.com/v1/chat/completions \"HTTP/1.1 200 OK\"\n",
      "HTTP Request: POST https://api.openai.com/v1/chat/completions \"HTTP/1.1 200 OK\"\n"
     ]
    },
    {
     "name": "stderr",
     "output_type": "stream",
     "text": [
      " 10%|▉         | 6/62 [00:10<01:27,  1.56s/it]"
     ]
    },
    {
     "name": "stdout",
     "output_type": "stream",
     "text": [
      "INFO:httpx:HTTP Request: POST https://api.openai.com/v1/chat/completions \"HTTP/1.1 200 OK\"\n",
      "HTTP Request: POST https://api.openai.com/v1/chat/completions \"HTTP/1.1 200 OK\"\n",
      "INFO:httpx:HTTP Request: POST https://api.openai.com/v1/chat/completions \"HTTP/1.1 200 OK\"\n",
      "HTTP Request: POST https://api.openai.com/v1/chat/completions \"HTTP/1.1 200 OK\"\n"
     ]
    },
    {
     "name": "stderr",
     "output_type": "stream",
     "text": [
      " 13%|█▎        | 8/62 [00:13<01:19,  1.47s/it]"
     ]
    },
    {
     "name": "stdout",
     "output_type": "stream",
     "text": [
      "INFO:httpx:HTTP Request: POST https://api.openai.com/v1/chat/completions \"HTTP/1.1 200 OK\"\n",
      "HTTP Request: POST https://api.openai.com/v1/chat/completions \"HTTP/1.1 200 OK\"\n"
     ]
    },
    {
     "name": "stderr",
     "output_type": "stream",
     "text": [
      " 15%|█▍        | 9/62 [00:13<01:00,  1.14s/it]"
     ]
    },
    {
     "name": "stdout",
     "output_type": "stream",
     "text": [
      "INFO:httpx:HTTP Request: POST https://api.openai.com/v1/chat/completions \"HTTP/1.1 200 OK\"\n",
      "HTTP Request: POST https://api.openai.com/v1/chat/completions \"HTTP/1.1 200 OK\"\n"
     ]
    },
    {
     "name": "stderr",
     "output_type": "stream",
     "text": [
      " 16%|█▌        | 10/62 [00:14<00:55,  1.07s/it]"
     ]
    },
    {
     "name": "stdout",
     "output_type": "stream",
     "text": [
      "INFO:httpx:HTTP Request: POST https://api.openai.com/v1/chat/completions \"HTTP/1.1 200 OK\"\n",
      "HTTP Request: POST https://api.openai.com/v1/chat/completions \"HTTP/1.1 200 OK\"\n"
     ]
    },
    {
     "name": "stderr",
     "output_type": "stream",
     "text": [
      " 18%|█▊        | 11/62 [00:17<01:24,  1.66s/it]"
     ]
    },
    {
     "name": "stdout",
     "output_type": "stream",
     "text": [
      "INFO:httpx:HTTP Request: POST https://api.openai.com/v1/chat/completions \"HTTP/1.1 200 OK\"\n",
      "HTTP Request: POST https://api.openai.com/v1/chat/completions \"HTTP/1.1 200 OK\"\n"
     ]
    },
    {
     "name": "stderr",
     "output_type": "stream",
     "text": [
      " 19%|█▉        | 12/62 [00:17<01:02,  1.25s/it]"
     ]
    },
    {
     "name": "stdout",
     "output_type": "stream",
     "text": [
      "INFO:httpx:HTTP Request: POST https://api.openai.com/v1/chat/completions \"HTTP/1.1 200 OK\"\n",
      "HTTP Request: POST https://api.openai.com/v1/chat/completions \"HTTP/1.1 200 OK\"\n"
     ]
    },
    {
     "name": "stderr",
     "output_type": "stream",
     "text": [
      " 21%|██        | 13/62 [00:18<00:56,  1.15s/it]"
     ]
    },
    {
     "name": "stdout",
     "output_type": "stream",
     "text": [
      "INFO:httpx:HTTP Request: POST https://api.openai.com/v1/chat/completions \"HTTP/1.1 200 OK\"\n",
      "HTTP Request: POST https://api.openai.com/v1/chat/completions \"HTTP/1.1 200 OK\"\n"
     ]
    },
    {
     "name": "stderr",
     "output_type": "stream",
     "text": [
      " 23%|██▎       | 14/62 [00:21<01:23,  1.73s/it]"
     ]
    },
    {
     "name": "stdout",
     "output_type": "stream",
     "text": [
      "INFO:httpx:HTTP Request: POST https://api.openai.com/v1/chat/completions \"HTTP/1.1 200 OK\"\n",
      "HTTP Request: POST https://api.openai.com/v1/chat/completions \"HTTP/1.1 200 OK\"\n"
     ]
    },
    {
     "name": "stderr",
     "output_type": "stream",
     "text": [
      " 24%|██▍       | 15/62 [00:22<01:01,  1.32s/it]"
     ]
    },
    {
     "name": "stdout",
     "output_type": "stream",
     "text": [
      "INFO:httpx:HTTP Request: POST https://api.openai.com/v1/chat/completions \"HTTP/1.1 200 OK\"\n",
      "HTTP Request: POST https://api.openai.com/v1/chat/completions \"HTTP/1.1 200 OK\"\n"
     ]
    },
    {
     "name": "stderr",
     "output_type": "stream",
     "text": [
      " 26%|██▌       | 16/62 [00:22<00:49,  1.07s/it]"
     ]
    },
    {
     "name": "stdout",
     "output_type": "stream",
     "text": [
      "INFO:httpx:HTTP Request: POST https://api.openai.com/v1/chat/completions \"HTTP/1.1 200 OK\"\n",
      "HTTP Request: POST https://api.openai.com/v1/chat/completions \"HTTP/1.1 200 OK\"\n"
     ]
    },
    {
     "name": "stderr",
     "output_type": "stream",
     "text": [
      " 27%|██▋       | 17/62 [00:23<00:38,  1.15it/s]"
     ]
    },
    {
     "name": "stdout",
     "output_type": "stream",
     "text": [
      "INFO:httpx:HTTP Request: POST https://api.openai.com/v1/chat/completions \"HTTP/1.1 200 OK\"\n",
      "HTTP Request: POST https://api.openai.com/v1/chat/completions \"HTTP/1.1 200 OK\"\n"
     ]
    },
    {
     "name": "stderr",
     "output_type": "stream",
     "text": [
      " 29%|██▉       | 18/62 [00:26<01:10,  1.61s/it]"
     ]
    },
    {
     "name": "stdout",
     "output_type": "stream",
     "text": [
      "INFO:httpx:HTTP Request: POST https://api.openai.com/v1/chat/completions \"HTTP/1.1 200 OK\"\n",
      "HTTP Request: POST https://api.openai.com/v1/chat/completions \"HTTP/1.1 200 OK\"\n"
     ]
    },
    {
     "name": "stderr",
     "output_type": "stream",
     "text": [
      " 31%|███       | 19/62 [00:26<00:51,  1.20s/it]"
     ]
    },
    {
     "name": "stdout",
     "output_type": "stream",
     "text": [
      "INFO:httpx:HTTP Request: POST https://api.openai.com/v1/chat/completions \"HTTP/1.1 200 OK\"\n",
      "HTTP Request: POST https://api.openai.com/v1/chat/completions \"HTTP/1.1 200 OK\"\n"
     ]
    },
    {
     "name": "stderr",
     "output_type": "stream",
     "text": [
      " 32%|███▏      | 20/62 [00:28<00:57,  1.38s/it]"
     ]
    },
    {
     "name": "stdout",
     "output_type": "stream",
     "text": [
      "INFO:httpx:HTTP Request: POST https://api.openai.com/v1/chat/completions \"HTTP/1.1 200 OK\"\n",
      "HTTP Request: POST https://api.openai.com/v1/chat/completions \"HTTP/1.1 200 OK\"\n"
     ]
    },
    {
     "name": "stderr",
     "output_type": "stream",
     "text": [
      " 34%|███▍      | 21/62 [00:29<00:56,  1.37s/it]"
     ]
    },
    {
     "name": "stdout",
     "output_type": "stream",
     "text": [
      "INFO:httpx:HTTP Request: POST https://api.openai.com/v1/chat/completions \"HTTP/1.1 200 OK\"\n",
      "HTTP Request: POST https://api.openai.com/v1/chat/completions \"HTTP/1.1 200 OK\"\n"
     ]
    },
    {
     "name": "stderr",
     "output_type": "stream",
     "text": [
      " 35%|███▌      | 22/62 [00:32<01:09,  1.74s/it]"
     ]
    },
    {
     "name": "stdout",
     "output_type": "stream",
     "text": [
      "INFO:httpx:HTTP Request: POST https://api.openai.com/v1/chat/completions \"HTTP/1.1 200 OK\"\n",
      "HTTP Request: POST https://api.openai.com/v1/chat/completions \"HTTP/1.1 200 OK\"\n"
     ]
    },
    {
     "name": "stderr",
     "output_type": "stream",
     "text": [
      " 37%|███▋      | 23/62 [00:33<01:03,  1.62s/it]"
     ]
    },
    {
     "name": "stdout",
     "output_type": "stream",
     "text": [
      "INFO:httpx:HTTP Request: POST https://api.openai.com/v1/chat/completions \"HTTP/1.1 200 OK\"\n",
      "HTTP Request: POST https://api.openai.com/v1/chat/completions \"HTTP/1.1 200 OK\"\n"
     ]
    },
    {
     "name": "stderr",
     "output_type": "stream",
     "text": [
      " 39%|███▊      | 24/62 [00:34<00:48,  1.27s/it]"
     ]
    },
    {
     "name": "stdout",
     "output_type": "stream",
     "text": [
      "INFO:httpx:HTTP Request: POST https://api.openai.com/v1/chat/completions \"HTTP/1.1 200 OK\"\n",
      "HTTP Request: POST https://api.openai.com/v1/chat/completions \"HTTP/1.1 200 OK\"\n"
     ]
    },
    {
     "name": "stderr",
     "output_type": "stream",
     "text": [
      " 40%|████      | 25/62 [00:36<01:00,  1.62s/it]"
     ]
    },
    {
     "name": "stdout",
     "output_type": "stream",
     "text": [
      "INFO:httpx:HTTP Request: POST https://api.openai.com/v1/chat/completions \"HTTP/1.1 200 OK\"\n",
      "HTTP Request: POST https://api.openai.com/v1/chat/completions \"HTTP/1.1 200 OK\"\n"
     ]
    },
    {
     "name": "stderr",
     "output_type": "stream",
     "text": [
      " 42%|████▏     | 26/62 [00:37<00:46,  1.29s/it]"
     ]
    },
    {
     "name": "stdout",
     "output_type": "stream",
     "text": [
      "INFO:httpx:HTTP Request: POST https://api.openai.com/v1/chat/completions \"HTTP/1.1 200 OK\"\n",
      "HTTP Request: POST https://api.openai.com/v1/chat/completions \"HTTP/1.1 200 OK\"\n"
     ]
    },
    {
     "name": "stderr",
     "output_type": "stream",
     "text": [
      " 44%|████▎     | 27/62 [00:37<00:36,  1.05s/it]"
     ]
    },
    {
     "name": "stdout",
     "output_type": "stream",
     "text": [
      "INFO:httpx:HTTP Request: POST https://api.openai.com/v1/chat/completions \"HTTP/1.1 200 OK\"\n",
      "HTTP Request: POST https://api.openai.com/v1/chat/completions \"HTTP/1.1 200 OK\"\n"
     ]
    },
    {
     "name": "stderr",
     "output_type": "stream",
     "text": [
      " 45%|████▌     | 28/62 [00:39<00:39,  1.16s/it]"
     ]
    },
    {
     "name": "stdout",
     "output_type": "stream",
     "text": [
      "INFO:httpx:HTTP Request: POST https://api.openai.com/v1/chat/completions \"HTTP/1.1 200 OK\"\n",
      "HTTP Request: POST https://api.openai.com/v1/chat/completions \"HTTP/1.1 200 OK\"\n"
     ]
    },
    {
     "name": "stderr",
     "output_type": "stream",
     "text": [
      " 47%|████▋     | 29/62 [00:41<00:53,  1.63s/it]"
     ]
    },
    {
     "name": "stdout",
     "output_type": "stream",
     "text": [
      "INFO:httpx:HTTP Request: POST https://api.openai.com/v1/chat/completions \"HTTP/1.1 200 OK\"\n",
      "HTTP Request: POST https://api.openai.com/v1/chat/completions \"HTTP/1.1 200 OK\"\n"
     ]
    },
    {
     "name": "stderr",
     "output_type": "stream",
     "text": [
      " 48%|████▊     | 30/62 [00:42<00:44,  1.38s/it]"
     ]
    },
    {
     "name": "stdout",
     "output_type": "stream",
     "text": [
      "INFO:httpx:HTTP Request: POST https://api.openai.com/v1/chat/completions \"HTTP/1.1 200 OK\"\n",
      "HTTP Request: POST https://api.openai.com/v1/chat/completions \"HTTP/1.1 200 OK\"\n"
     ]
    },
    {
     "name": "stderr",
     "output_type": "stream",
     "text": [
      " 50%|█████     | 31/62 [00:46<01:10,  2.28s/it]"
     ]
    },
    {
     "name": "stdout",
     "output_type": "stream",
     "text": [
      "INFO:httpx:HTTP Request: POST https://api.openai.com/v1/chat/completions \"HTTP/1.1 200 OK\"\n",
      "HTTP Request: POST https://api.openai.com/v1/chat/completions \"HTTP/1.1 200 OK\"\n"
     ]
    },
    {
     "name": "stderr",
     "output_type": "stream",
     "text": [
      " 52%|█████▏    | 32/62 [00:48<00:59,  1.98s/it]"
     ]
    },
    {
     "name": "stdout",
     "output_type": "stream",
     "text": [
      "INFO:httpx:HTTP Request: POST https://api.openai.com/v1/chat/completions \"HTTP/1.1 200 OK\"\n",
      "HTTP Request: POST https://api.openai.com/v1/chat/completions \"HTTP/1.1 200 OK\"\n"
     ]
    },
    {
     "name": "stderr",
     "output_type": "stream",
     "text": [
      " 53%|█████▎    | 33/62 [00:50<00:55,  1.93s/it]"
     ]
    },
    {
     "name": "stdout",
     "output_type": "stream",
     "text": [
      "INFO:httpx:HTTP Request: POST https://api.openai.com/v1/chat/completions \"HTTP/1.1 200 OK\"\n",
      "HTTP Request: POST https://api.openai.com/v1/chat/completions \"HTTP/1.1 200 OK\"\n"
     ]
    },
    {
     "name": "stderr",
     "output_type": "stream",
     "text": [
      " 55%|█████▍    | 34/62 [00:51<00:46,  1.67s/it]"
     ]
    },
    {
     "name": "stdout",
     "output_type": "stream",
     "text": [
      "INFO:httpx:HTTP Request: POST https://api.openai.com/v1/chat/completions \"HTTP/1.1 200 OK\"\n",
      "HTTP Request: POST https://api.openai.com/v1/chat/completions \"HTTP/1.1 200 OK\"\n"
     ]
    },
    {
     "name": "stderr",
     "output_type": "stream",
     "text": [
      " 56%|█████▋    | 35/62 [00:52<00:44,  1.66s/it]"
     ]
    },
    {
     "name": "stdout",
     "output_type": "stream",
     "text": [
      "INFO:httpx:HTTP Request: POST https://api.openai.com/v1/chat/completions \"HTTP/1.1 200 OK\"\n",
      "HTTP Request: POST https://api.openai.com/v1/chat/completions \"HTTP/1.1 200 OK\"\n"
     ]
    },
    {
     "name": "stderr",
     "output_type": "stream",
     "text": [
      " 58%|█████▊    | 36/62 [00:53<00:32,  1.27s/it]"
     ]
    },
    {
     "name": "stdout",
     "output_type": "stream",
     "text": [
      "INFO:httpx:HTTP Request: POST https://api.openai.com/v1/chat/completions \"HTTP/1.1 200 OK\"\n",
      "HTTP Request: POST https://api.openai.com/v1/chat/completions \"HTTP/1.1 200 OK\"\n"
     ]
    },
    {
     "name": "stderr",
     "output_type": "stream",
     "text": [
      " 60%|█████▉    | 37/62 [00:54<00:36,  1.45s/it]"
     ]
    },
    {
     "name": "stdout",
     "output_type": "stream",
     "text": [
      "INFO:httpx:HTTP Request: POST https://api.openai.com/v1/chat/completions \"HTTP/1.1 200 OK\"\n",
      "HTTP Request: POST https://api.openai.com/v1/chat/completions \"HTTP/1.1 200 OK\"\n"
     ]
    },
    {
     "name": "stderr",
     "output_type": "stream",
     "text": [
      " 61%|██████▏   | 38/62 [00:55<00:31,  1.29s/it]"
     ]
    },
    {
     "name": "stdout",
     "output_type": "stream",
     "text": [
      "INFO:httpx:HTTP Request: POST https://api.openai.com/v1/chat/completions \"HTTP/1.1 200 OK\"\n",
      "HTTP Request: POST https://api.openai.com/v1/chat/completions \"HTTP/1.1 200 OK\"\n"
     ]
    },
    {
     "name": "stderr",
     "output_type": "stream",
     "text": [
      " 63%|██████▎   | 39/62 [00:56<00:28,  1.23s/it]"
     ]
    },
    {
     "name": "stdout",
     "output_type": "stream",
     "text": [
      "INFO:httpx:HTTP Request: POST https://api.openai.com/v1/chat/completions \"HTTP/1.1 200 OK\"\n",
      "HTTP Request: POST https://api.openai.com/v1/chat/completions \"HTTP/1.1 200 OK\"\n"
     ]
    },
    {
     "name": "stderr",
     "output_type": "stream",
     "text": [
      " 65%|██████▍   | 40/62 [00:59<00:33,  1.51s/it]"
     ]
    },
    {
     "name": "stdout",
     "output_type": "stream",
     "text": [
      "INFO:httpx:HTTP Request: POST https://api.openai.com/v1/chat/completions \"HTTP/1.1 200 OK\"\n",
      "HTTP Request: POST https://api.openai.com/v1/chat/completions \"HTTP/1.1 200 OK\"\n"
     ]
    },
    {
     "name": "stderr",
     "output_type": "stream",
     "text": [
      " 66%|██████▌   | 41/62 [01:00<00:30,  1.44s/it]"
     ]
    },
    {
     "name": "stdout",
     "output_type": "stream",
     "text": [
      "INFO:httpx:HTTP Request: POST https://api.openai.com/v1/chat/completions \"HTTP/1.1 200 OK\"\n",
      "HTTP Request: POST https://api.openai.com/v1/chat/completions \"HTTP/1.1 200 OK\"\n"
     ]
    },
    {
     "name": "stderr",
     "output_type": "stream",
     "text": [
      " 68%|██████▊   | 42/62 [01:00<00:20,  1.04s/it]"
     ]
    },
    {
     "name": "stdout",
     "output_type": "stream",
     "text": [
      "INFO:httpx:HTTP Request: POST https://api.openai.com/v1/chat/completions \"HTTP/1.1 200 OK\"\n",
      "HTTP Request: POST https://api.openai.com/v1/chat/completions \"HTTP/1.1 200 OK\"\n"
     ]
    },
    {
     "name": "stderr",
     "output_type": "stream",
     "text": [
      " 69%|██████▉   | 43/62 [01:04<00:35,  1.89s/it]"
     ]
    },
    {
     "name": "stdout",
     "output_type": "stream",
     "text": [
      "INFO:httpx:HTTP Request: POST https://api.openai.com/v1/chat/completions \"HTTP/1.1 200 OK\"\n",
      "HTTP Request: POST https://api.openai.com/v1/chat/completions \"HTTP/1.1 200 OK\"\n",
      "INFO:httpx:HTTP Request: POST https://api.openai.com/v1/chat/completions \"HTTP/1.1 200 OK\"\n",
      "HTTP Request: POST https://api.openai.com/v1/chat/completions \"HTTP/1.1 200 OK\"\n"
     ]
    },
    {
     "name": "stderr",
     "output_type": "stream",
     "text": [
      " 73%|███████▎  | 45/62 [01:04<00:17,  1.05s/it]"
     ]
    },
    {
     "name": "stdout",
     "output_type": "stream",
     "text": [
      "INFO:httpx:HTTP Request: POST https://api.openai.com/v1/chat/completions \"HTTP/1.1 200 OK\"\n",
      "HTTP Request: POST https://api.openai.com/v1/chat/completions \"HTTP/1.1 200 OK\"\n"
     ]
    },
    {
     "name": "stderr",
     "output_type": "stream",
     "text": [
      " 74%|███████▍  | 46/62 [01:07<00:25,  1.60s/it]"
     ]
    },
    {
     "name": "stdout",
     "output_type": "stream",
     "text": [
      "INFO:httpx:HTTP Request: POST https://api.openai.com/v1/chat/completions \"HTTP/1.1 200 OK\"\n",
      "HTTP Request: POST https://api.openai.com/v1/chat/completions \"HTTP/1.1 200 OK\"\n"
     ]
    },
    {
     "name": "stderr",
     "output_type": "stream",
     "text": [
      " 76%|███████▌  | 47/62 [01:09<00:22,  1.50s/it]"
     ]
    },
    {
     "name": "stdout",
     "output_type": "stream",
     "text": [
      "INFO:httpx:HTTP Request: POST https://api.openai.com/v1/chat/completions \"HTTP/1.1 200 OK\"\n",
      "HTTP Request: POST https://api.openai.com/v1/chat/completions \"HTTP/1.1 200 OK\"\n"
     ]
    },
    {
     "name": "stderr",
     "output_type": "stream",
     "text": [
      " 77%|███████▋  | 48/62 [01:10<00:20,  1.44s/it]"
     ]
    },
    {
     "name": "stdout",
     "output_type": "stream",
     "text": [
      "INFO:httpx:HTTP Request: POST https://api.openai.com/v1/chat/completions \"HTTP/1.1 200 OK\"\n",
      "HTTP Request: POST https://api.openai.com/v1/chat/completions \"HTTP/1.1 200 OK\"\n"
     ]
    },
    {
     "name": "stderr",
     "output_type": "stream",
     "text": [
      " 79%|███████▉  | 49/62 [01:11<00:18,  1.43s/it]"
     ]
    },
    {
     "name": "stdout",
     "output_type": "stream",
     "text": [
      "INFO:httpx:HTTP Request: POST https://api.openai.com/v1/chat/completions \"HTTP/1.1 200 OK\"\n",
      "HTTP Request: POST https://api.openai.com/v1/chat/completions \"HTTP/1.1 200 OK\"\n"
     ]
    },
    {
     "name": "stderr",
     "output_type": "stream",
     "text": [
      " 81%|████████  | 50/62 [01:14<00:20,  1.75s/it]"
     ]
    },
    {
     "name": "stdout",
     "output_type": "stream",
     "text": [
      "INFO:httpx:HTTP Request: POST https://api.openai.com/v1/chat/completions \"HTTP/1.1 200 OK\"\n",
      "HTTP Request: POST https://api.openai.com/v1/chat/completions \"HTTP/1.1 200 OK\"\n"
     ]
    },
    {
     "name": "stderr",
     "output_type": "stream",
     "text": [
      " 82%|████████▏ | 51/62 [01:14<00:14,  1.35s/it]"
     ]
    },
    {
     "name": "stdout",
     "output_type": "stream",
     "text": [
      "INFO:httpx:HTTP Request: POST https://api.openai.com/v1/chat/completions \"HTTP/1.1 200 OK\"\n",
      "HTTP Request: POST https://api.openai.com/v1/chat/completions \"HTTP/1.1 200 OK\"\n"
     ]
    },
    {
     "name": "stderr",
     "output_type": "stream",
     "text": [
      " 84%|████████▍ | 52/62 [01:17<00:17,  1.77s/it]"
     ]
    },
    {
     "name": "stdout",
     "output_type": "stream",
     "text": [
      "INFO:httpx:HTTP Request: POST https://api.openai.com/v1/chat/completions \"HTTP/1.1 200 OK\"\n",
      "HTTP Request: POST https://api.openai.com/v1/chat/completions \"HTTP/1.1 200 OK\"\n"
     ]
    },
    {
     "name": "stderr",
     "output_type": "stream",
     "text": [
      " 85%|████████▌ | 53/62 [01:18<00:12,  1.44s/it]"
     ]
    },
    {
     "name": "stdout",
     "output_type": "stream",
     "text": [
      "INFO:httpx:HTTP Request: POST https://api.openai.com/v1/chat/completions \"HTTP/1.1 200 OK\"\n",
      "HTTP Request: POST https://api.openai.com/v1/chat/completions \"HTTP/1.1 200 OK\"\n"
     ]
    },
    {
     "name": "stderr",
     "output_type": "stream",
     "text": [
      " 87%|████████▋ | 54/62 [01:18<00:09,  1.17s/it]"
     ]
    },
    {
     "name": "stdout",
     "output_type": "stream",
     "text": [
      "INFO:httpx:HTTP Request: POST https://api.openai.com/v1/chat/completions \"HTTP/1.1 200 OK\"\n",
      "HTTP Request: POST https://api.openai.com/v1/chat/completions \"HTTP/1.1 200 OK\"\n"
     ]
    },
    {
     "name": "stderr",
     "output_type": "stream",
     "text": [
      " 89%|████████▊ | 55/62 [01:19<00:07,  1.08s/it]"
     ]
    },
    {
     "name": "stdout",
     "output_type": "stream",
     "text": [
      "INFO:httpx:HTTP Request: POST https://api.openai.com/v1/chat/completions \"HTTP/1.1 200 OK\"\n",
      "HTTP Request: POST https://api.openai.com/v1/chat/completions \"HTTP/1.1 200 OK\"\n"
     ]
    },
    {
     "name": "stderr",
     "output_type": "stream",
     "text": [
      " 90%|█████████ | 56/62 [01:21<00:08,  1.44s/it]"
     ]
    },
    {
     "name": "stdout",
     "output_type": "stream",
     "text": [
      "INFO:httpx:HTTP Request: POST https://api.openai.com/v1/chat/completions \"HTTP/1.1 200 OK\"\n",
      "HTTP Request: POST https://api.openai.com/v1/chat/completions \"HTTP/1.1 200 OK\"\n"
     ]
    },
    {
     "name": "stderr",
     "output_type": "stream",
     "text": [
      " 92%|█████████▏| 57/62 [01:22<00:06,  1.24s/it]"
     ]
    },
    {
     "name": "stdout",
     "output_type": "stream",
     "text": [
      "INFO:httpx:HTTP Request: POST https://api.openai.com/v1/chat/completions \"HTTP/1.1 200 OK\"\n",
      "HTTP Request: POST https://api.openai.com/v1/chat/completions \"HTTP/1.1 200 OK\"\n"
     ]
    },
    {
     "name": "stderr",
     "output_type": "stream",
     "text": [
      " 94%|█████████▎| 58/62 [01:22<00:03,  1.03it/s]"
     ]
    },
    {
     "name": "stdout",
     "output_type": "stream",
     "text": [
      "INFO:httpx:HTTP Request: POST https://api.openai.com/v1/chat/completions \"HTTP/1.1 200 OK\"\n",
      "HTTP Request: POST https://api.openai.com/v1/chat/completions \"HTTP/1.1 200 OK\"\n"
     ]
    },
    {
     "name": "stderr",
     "output_type": "stream",
     "text": [
      " 95%|█████████▌| 59/62 [01:25<00:03,  1.33s/it]"
     ]
    },
    {
     "name": "stdout",
     "output_type": "stream",
     "text": [
      "INFO:httpx:HTTP Request: POST https://api.openai.com/v1/chat/completions \"HTTP/1.1 200 OK\"\n",
      "HTTP Request: POST https://api.openai.com/v1/chat/completions \"HTTP/1.1 200 OK\"\n"
     ]
    },
    {
     "name": "stderr",
     "output_type": "stream",
     "text": [
      " 97%|█████████▋| 60/62 [01:26<00:03,  1.51s/it]"
     ]
    },
    {
     "name": "stdout",
     "output_type": "stream",
     "text": [
      "INFO:httpx:HTTP Request: POST https://api.openai.com/v1/chat/completions \"HTTP/1.1 200 OK\"\n",
      "HTTP Request: POST https://api.openai.com/v1/chat/completions \"HTTP/1.1 200 OK\"\n"
     ]
    },
    {
     "name": "stderr",
     "output_type": "stream",
     "text": [
      " 98%|█████████▊| 61/62 [01:28<00:01,  1.37s/it]"
     ]
    },
    {
     "name": "stdout",
     "output_type": "stream",
     "text": [
      "INFO:httpx:HTTP Request: POST https://api.openai.com/v1/chat/completions \"HTTP/1.1 200 OK\"\n",
      "HTTP Request: POST https://api.openai.com/v1/chat/completions \"HTTP/1.1 200 OK\"\n"
     ]
    },
    {
     "name": "stderr",
     "output_type": "stream",
     "text": [
      "100%|██████████| 62/62 [01:33<00:00,  1.51s/it]\n"
     ]
    }
   ],
   "source": [
    "from llama_index.ingestion import IngestionPipeline\n",
    "\n",
    "pipeline = IngestionPipeline(transformations=transformations)\n",
    "\n",
    "andrew_gina_nodes = pipeline.run(documents=andrew_gina_docs)"
   ]
  },
  {
   "cell_type": "code",
   "execution_count": 32,
   "metadata": {},
   "outputs": [
    {
     "name": "stdout",
     "output_type": "stream",
     "text": [
      "62\n"
     ]
    }
   ],
   "source": [
    "print(len(andrew_gina_nodes))"
   ]
  },
  {
   "cell_type": "code",
   "execution_count": 33,
   "metadata": {},
   "outputs": [
    {
     "data": {
      "text/plain": [
       "{'file_path': 'assets\\\\AndrewHuberman\\\\sleep\\\\115_Dr_Gina_Poe_Use_Sleep_to_Enhance_Learning_Memory_&_Emotional_State_Huberman_Lab_Podcast.txt',\n",
       " 'file_name': '115_Dr_Gina_Poe_Use_Sleep_to_Enhance_Learning_Memory_&_Emotional_State_Huberman_Lab_Podcast.txt',\n",
       " 'file_type': 'text/plain',\n",
       " 'file_size': 126154,\n",
       " 'creation_date': '2023-12-11',\n",
       " 'last_modified_date': '2023-12-11',\n",
       " 'last_accessed_date': '2023-12-14',\n",
       " 'document_title': 'The Comprehensive Guide to Sleep: Understanding its Importance for Mental and Physical Health, Enhancing Quality and Performance, and Exploring Different Phases and Functions.',\n",
       " 'questions_this_excerpt_can_answer': \"1. What are some factors that contribute to a good night's sleep and how can they be optimized?\\n2. How does the quality of sleep impact mental and physical health, as well as overall performance?\\n3. What are some innovative technologies or products available to improve sleep quality and track sleep patterns?\"}"
      ]
     },
     "execution_count": 33,
     "metadata": {},
     "output_type": "execute_result"
    }
   ],
   "source": [
    "andrew_gina_nodes[2].metadata\n"
   ]
  },
  {
   "cell_type": "code",
   "execution_count": 34,
   "metadata": {},
   "outputs": [
    {
     "name": "stdout",
     "output_type": "stream",
     "text": [
      "{'file_path': 'assets\\\\AndrewHuberman\\\\sleep\\\\115_Dr_Gina_Poe_Use_Sleep_to_Enhance_Learning_Memory_&_Emotional_State_Huberman_Lab_Podcast.txt', 'file_name': '115_Dr_Gina_Poe_Use_Sleep_to_Enhance_Learning_Memory_&_Emotional_State_Huberman_Lab_Podcast.txt', 'file_type': 'text/plain', 'file_size': 126154, 'creation_date': '2023-12-11', 'last_modified_date': '2023-12-11', 'last_accessed_date': '2023-12-14', 'document_title': 'The Comprehensive Guide to Sleep: Understanding its Importance for Mental and Physical Health, Enhancing Quality and Performance, and Exploring Different Phases and Functions.', 'questions_this_excerpt_can_answer': '1. How long did participants in the study sleep when they were placed in a semi-darkened room with only a bed for 12 hours every day for a month?\\n2. Can oversleeping make us groggy the next day?\\n3. What happens to cognitive function when individuals consistently deprive themselves of sleep and only sleep for four to four and a half hours a night?'}\n",
      "{'file_path': 'assets\\\\AndrewHuberman\\\\sleep\\\\115_Dr_Gina_Poe_Use_Sleep_to_Enhance_Learning_Memory_&_Emotional_State_Huberman_Lab_Podcast.txt', 'file_name': '115_Dr_Gina_Poe_Use_Sleep_to_Enhance_Learning_Memory_&_Emotional_State_Huberman_Lab_Podcast.txt', 'file_type': 'text/plain', 'file_size': 126154, 'creation_date': '2023-12-11', 'last_modified_date': '2023-12-11', 'last_accessed_date': '2023-12-14', 'document_title': 'The Comprehensive Guide to Sleep: Understanding its Importance for Mental and Physical Health, Enhancing Quality and Performance, and Exploring Different Phases and Functions.', 'questions_this_excerpt_can_answer': '1. What is the role of the Locus Ceruleus in suppressing emotional activity during REM sleep and how does it relate to trauma therapy?\\n- This context provides information about how the Locus Ceruleus suppresses norepinephrine release during emotionally laden thoughts and storylines during sleep. It also discusses the potential connection between this suppression and trauma therapy.\\n\\n2. How do different trauma therapies approach the emotional response to traumatic events?\\n- The context mentions two different approaches to trauma therapy: one involving suppressing the emotional activity of the trauma narrative and another involving allowing the emotional response to peak and then cycle down into a more relaxed state. This information can provide insights into different strategies used in trauma therapy.\\n\\n3. Why is talking about a traumatic event sometimes counterproductive?\\n- The context suggests that talking about a traumatic event, such as a school shooting or car accident, may be counterproductive. Understanding the reasons behind this counterproductivity can provide insights into the complexities of trauma recovery and the potential impact of different therapeutic approaches.'}\n",
      "{'file_path': 'assets\\\\AndrewHuberman\\\\sleep\\\\115_Dr_Gina_Poe_Use_Sleep_to_Enhance_Learning_Memory_&_Emotional_State_Huberman_Lab_Podcast.txt', 'file_name': '115_Dr_Gina_Poe_Use_Sleep_to_Enhance_Learning_Memory_&_Emotional_State_Huberman_Lab_Podcast.txt', 'file_type': 'text/plain', 'file_size': 126154, 'creation_date': '2023-12-11', 'last_modified_date': '2023-12-11', 'last_accessed_date': '2023-12-14', 'document_title': 'The Comprehensive Guide to Sleep: Understanding its Importance for Mental and Physical Health, Enhancing Quality and Performance, and Exploring Different Phases and Functions.', 'questions_this_excerpt_can_answer': '1. What is the function of the locus ceruleus in the brain and how does it relate to the release of epinephrine (adrenaline)?\\n2. How does the locus ceruleus help us switch our attention and learn quickly in response to stimuli?\\n3. What is the role of the cholinergic system in the basal forebrain in learning and memory, and how does it interact with the locus ceruleus?'}\n",
      "{'file_path': 'assets\\\\AndrewHuberman\\\\sleep\\\\115_Dr_Gina_Poe_Use_Sleep_to_Enhance_Learning_Memory_&_Emotional_State_Huberman_Lab_Podcast.txt', 'file_name': '115_Dr_Gina_Poe_Use_Sleep_to_Enhance_Learning_Memory_&_Emotional_State_Huberman_Lab_Podcast.txt', 'file_type': 'text/plain', 'file_size': 126154, 'creation_date': '2023-12-11', 'last_modified_date': '2023-12-11', 'last_accessed_date': '2023-12-14', 'document_title': 'The Comprehensive Guide to Sleep: Understanding its Importance for Mental and Physical Health, Enhancing Quality and Performance, and Exploring Different Phases and Functions.', 'questions_this_excerpt_can_answer': \"1. What are the different molecules involved in the brain's release of dopamine, norepinephrine, and galanin, and how do they contribute to learning and memory?\\n2. Why is redundancy a common feature in the brain's molecular pathways, and how does it relate to the importance of signaling attention to specific events?\\n3. How has our understanding of neurotransmitters and neuropeptides evolved over time, and what implications does this have for our understanding of the complexity of the brain?\"}\n",
      "{'file_path': 'assets\\\\AndrewHuberman\\\\sleep\\\\115_Dr_Gina_Poe_Use_Sleep_to_Enhance_Learning_Memory_&_Emotional_State_Huberman_Lab_Podcast.txt', 'file_name': '115_Dr_Gina_Poe_Use_Sleep_to_Enhance_Learning_Memory_&_Emotional_State_Huberman_Lab_Podcast.txt', 'file_type': 'text/plain', 'file_size': 126154, 'creation_date': '2023-12-11', 'last_modified_date': '2023-12-11', 'last_accessed_date': '2023-12-14', 'document_title': 'The Comprehensive Guide to Sleep: Understanding its Importance for Mental and Physical Health, Enhancing Quality and Performance, and Exploring Different Phases and Functions.', 'questions_this_excerpt_can_answer': '1. What is the protocol described in the referenced study that helps individuals escape recurring nightmares?\\n2. How does cueing oneself before sleep potentially help in changing the narrative of a recurring nightmare?\\n3. What is the role of the Loca cyrillus in stress and how does calming down during sleep affect its functioning?'}\n"
     ]
    }
   ],
   "source": [
    "import random\n",
    "sample_gina_nodes = random.sample(andrew_gina_nodes, 5)\n",
    "for node in sample_gina_nodes:\n",
    "    print(node.metadata)"
   ]
  },
  {
   "cell_type": "code",
   "execution_count": 46,
   "metadata": {},
   "outputs": [],
   "source": [
    "# from llama_index import ServiceContext, VectorStoreIndex\n",
    "\n",
    "# service_context = ServiceContext.from_defaults(node_parser=andrew_gina_nodes)\n",
    "# index = VectorStoreIndex.from_documents(andrew_gina_docs, service_context=service_context)\n",
    "\n",
    "\n",
    "# index_no_metadata = VectorStoreIndex(\n",
    "#     nodes=andrew_gina_nodes,\n",
    "#     service_context=ServiceContext.from_defaults(),\n",
    "# )\n",
    "\n",
    "# response = index.as_query_engine().query(\"How does consistent bedtime contribute to good neurological health as we age?\")\n"
   ]
  },
  {
   "cell_type": "code",
   "execution_count": 47,
   "metadata": {},
   "outputs": [],
   "source": [
    "from llama_index.question_gen.llm_generators import LLMQuestionGenerator\n",
    "from llama_index.question_gen.prompts import DEFAULT_SUB_QUESTION_PROMPT_TMPL\n",
    "\n",
    "\n",
    "service_context = ServiceContext.from_defaults(\n",
    "    text_splitter=text_splitter\n",
    ")\n",
    "question_gen = LLMQuestionGenerator.from_defaults(\n",
    "    service_context=service_context,\n",
    "    prompt_template_str=\"\"\"\n",
    "        Follow the example, but instead of giving a question, always prefix the question \n",
    "        with: 'By first identifying and quoting the most relevant sources, '. \n",
    "        \"\"\"\n",
    "    + DEFAULT_SUB_QUESTION_PROMPT_TMPL,\n",
    ")"
   ]
  },
  {
   "cell_type": "code",
   "execution_count": 49,
   "metadata": {},
   "outputs": [
    {
     "ename": "TypeError",
     "evalue": "'LLMQuestionGenerator' object is not iterable",
     "output_type": "error",
     "traceback": [
      "\u001b[1;31m---------------------------------------------------------------------------\u001b[0m",
      "\u001b[1;31mTypeError\u001b[0m                                 Traceback (most recent call last)",
      "\u001b[1;32md:\\LLMOps\\Udemy\\LLAMAINDEXSCRIPTS\\askAndrew.ipynb Cell 43\u001b[0m line \u001b[0;36m1\n\u001b[1;32m----> <a href='vscode-notebook-cell:/d%3A/LLMOps/Udemy/LLAMAINDEXSCRIPTS/askAndrew.ipynb#X64sZmlsZQ%3D%3D?line=0'>1</a>\u001b[0m \u001b[39mnext\u001b[39m(\u001b[39miter\u001b[39;49m(question_gen))\n",
      "\u001b[1;31mTypeError\u001b[0m: 'LLMQuestionGenerator' object is not iterable"
     ]
    }
   ],
   "source": [
    "from llama_index import VectorStoreIndex\n",
    "from llama_index.query_engine import SubQuestionQueryEngine\n",
    "from llama_index.tools import QueryEngineTool, ToolMetadata\n",
    "\n",
    "final_engine_no_metadata = SubQuestionQueryEngine.from_defaults(\n",
    "    query_engine_tools=[\n",
    "        QueryEngineTool(\n",
    "            query_engine=engine_no_metadata,\n",
    "            metadata=ToolMetadata(\n",
    "                name=\"sec_filing_documents\",\n",
    "                description=\"financial information on companies\",\n",
    "            ),\n",
    "        )\n",
    "    ],\n",
    "    question_gen=question_gen,\n",
    "    use_async=True,\n",
    ")"
   ]
  },
  {
   "cell_type": "code",
   "execution_count": null,
   "metadata": {},
   "outputs": [],
   "source": []
  }
 ],
 "metadata": {
  "kernelspec": {
   "display_name": "myenv",
   "language": "python",
   "name": "python3"
  },
  "language_info": {
   "codemirror_mode": {
    "name": "ipython",
    "version": 3
   },
   "file_extension": ".py",
   "mimetype": "text/x-python",
   "name": "python",
   "nbconvert_exporter": "python",
   "pygments_lexer": "ipython3",
   "version": "3.10.0"
  },
  "orig_nbformat": 4
 },
 "nbformat": 4,
 "nbformat_minor": 2
}
